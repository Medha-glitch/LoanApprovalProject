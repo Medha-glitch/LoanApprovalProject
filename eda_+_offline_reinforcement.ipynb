{
  "nbformat": 4,
  "nbformat_minor": 0,
  "metadata": {
    "colab": {
      "provenance": []
    },
    "kernelspec": {
      "name": "python3",
      "display_name": "Python 3"
    },
    "language_info": {
      "name": "python"
    },
    "widgets": {
      "application/vnd.jupyter.widget-state+json": {
        "2d8b7a431e8e4da4a918690d3ec64bfe": {
          "model_module": "@jupyter-widgets/controls",
          "model_name": "HBoxModel",
          "model_module_version": "1.5.0",
          "state": {
            "_dom_classes": [],
            "_model_module": "@jupyter-widgets/controls",
            "_model_module_version": "1.5.0",
            "_model_name": "HBoxModel",
            "_view_count": null,
            "_view_module": "@jupyter-widgets/controls",
            "_view_module_version": "1.5.0",
            "_view_name": "HBoxView",
            "box_style": "",
            "children": [
              "IPY_MODEL_333aa51b96c44e0e9edb3bf9815b2961",
              "IPY_MODEL_3ed09684a3bf45b7ae84b0c510cc1205",
              "IPY_MODEL_c16ea9f5eec04ce7a155a7e722bdadbe"
            ],
            "layout": "IPY_MODEL_c13e0800264040408e0150ab6578de65"
          }
        },
        "333aa51b96c44e0e9edb3bf9815b2961": {
          "model_module": "@jupyter-widgets/controls",
          "model_name": "HTMLModel",
          "model_module_version": "1.5.0",
          "state": {
            "_dom_classes": [],
            "_model_module": "@jupyter-widgets/controls",
            "_model_module_version": "1.5.0",
            "_model_name": "HTMLModel",
            "_view_count": null,
            "_view_module": "@jupyter-widgets/controls",
            "_view_module_version": "1.5.0",
            "_view_name": "HTMLView",
            "description": "",
            "description_tooltip": null,
            "layout": "IPY_MODEL_9a7ba663086d4dbb8f68dd1eac8b4e5b",
            "placeholder": "​",
            "style": "IPY_MODEL_0781a62df27e4e1aa3f3b6a5b116e460",
            "value": "Epoch 1/5: 100%"
          }
        },
        "3ed09684a3bf45b7ae84b0c510cc1205": {
          "model_module": "@jupyter-widgets/controls",
          "model_name": "FloatProgressModel",
          "model_module_version": "1.5.0",
          "state": {
            "_dom_classes": [],
            "_model_module": "@jupyter-widgets/controls",
            "_model_module_version": "1.5.0",
            "_model_name": "FloatProgressModel",
            "_view_count": null,
            "_view_module": "@jupyter-widgets/controls",
            "_view_module_version": "1.5.0",
            "_view_name": "ProgressView",
            "bar_style": "success",
            "description": "",
            "description_tooltip": null,
            "layout": "IPY_MODEL_12b146cee49a48e494793e6fd230af82",
            "max": 10000,
            "min": 0,
            "orientation": "horizontal",
            "style": "IPY_MODEL_d1b609275f9644b79c9af0ba5a447a02",
            "value": 10000
          }
        },
        "c16ea9f5eec04ce7a155a7e722bdadbe": {
          "model_module": "@jupyter-widgets/controls",
          "model_name": "HTMLModel",
          "model_module_version": "1.5.0",
          "state": {
            "_dom_classes": [],
            "_model_module": "@jupyter-widgets/controls",
            "_model_module_version": "1.5.0",
            "_model_name": "HTMLModel",
            "_view_count": null,
            "_view_module": "@jupyter-widgets/controls",
            "_view_module_version": "1.5.0",
            "_view_name": "HTMLView",
            "description": "",
            "description_tooltip": null,
            "layout": "IPY_MODEL_70b4018ecc2e485e89c3c2b5aa9b3eb2",
            "placeholder": "​",
            "style": "IPY_MODEL_b2d5a6721fb94d72bbdde3f6a8187adb",
            "value": " 10000/10000 [00:35&lt;00:00, 301.74it/s, loss=0.0109]"
          }
        },
        "c13e0800264040408e0150ab6578de65": {
          "model_module": "@jupyter-widgets/base",
          "model_name": "LayoutModel",
          "model_module_version": "1.2.0",
          "state": {
            "_model_module": "@jupyter-widgets/base",
            "_model_module_version": "1.2.0",
            "_model_name": "LayoutModel",
            "_view_count": null,
            "_view_module": "@jupyter-widgets/base",
            "_view_module_version": "1.2.0",
            "_view_name": "LayoutView",
            "align_content": null,
            "align_items": null,
            "align_self": null,
            "border": null,
            "bottom": null,
            "display": null,
            "flex": null,
            "flex_flow": null,
            "grid_area": null,
            "grid_auto_columns": null,
            "grid_auto_flow": null,
            "grid_auto_rows": null,
            "grid_column": null,
            "grid_gap": null,
            "grid_row": null,
            "grid_template_areas": null,
            "grid_template_columns": null,
            "grid_template_rows": null,
            "height": null,
            "justify_content": null,
            "justify_items": null,
            "left": null,
            "margin": null,
            "max_height": null,
            "max_width": null,
            "min_height": null,
            "min_width": null,
            "object_fit": null,
            "object_position": null,
            "order": null,
            "overflow": null,
            "overflow_x": null,
            "overflow_y": null,
            "padding": null,
            "right": null,
            "top": null,
            "visibility": null,
            "width": null
          }
        },
        "9a7ba663086d4dbb8f68dd1eac8b4e5b": {
          "model_module": "@jupyter-widgets/base",
          "model_name": "LayoutModel",
          "model_module_version": "1.2.0",
          "state": {
            "_model_module": "@jupyter-widgets/base",
            "_model_module_version": "1.2.0",
            "_model_name": "LayoutModel",
            "_view_count": null,
            "_view_module": "@jupyter-widgets/base",
            "_view_module_version": "1.2.0",
            "_view_name": "LayoutView",
            "align_content": null,
            "align_items": null,
            "align_self": null,
            "border": null,
            "bottom": null,
            "display": null,
            "flex": null,
            "flex_flow": null,
            "grid_area": null,
            "grid_auto_columns": null,
            "grid_auto_flow": null,
            "grid_auto_rows": null,
            "grid_column": null,
            "grid_gap": null,
            "grid_row": null,
            "grid_template_areas": null,
            "grid_template_columns": null,
            "grid_template_rows": null,
            "height": null,
            "justify_content": null,
            "justify_items": null,
            "left": null,
            "margin": null,
            "max_height": null,
            "max_width": null,
            "min_height": null,
            "min_width": null,
            "object_fit": null,
            "object_position": null,
            "order": null,
            "overflow": null,
            "overflow_x": null,
            "overflow_y": null,
            "padding": null,
            "right": null,
            "top": null,
            "visibility": null,
            "width": null
          }
        },
        "0781a62df27e4e1aa3f3b6a5b116e460": {
          "model_module": "@jupyter-widgets/controls",
          "model_name": "DescriptionStyleModel",
          "model_module_version": "1.5.0",
          "state": {
            "_model_module": "@jupyter-widgets/controls",
            "_model_module_version": "1.5.0",
            "_model_name": "DescriptionStyleModel",
            "_view_count": null,
            "_view_module": "@jupyter-widgets/base",
            "_view_module_version": "1.2.0",
            "_view_name": "StyleView",
            "description_width": ""
          }
        },
        "12b146cee49a48e494793e6fd230af82": {
          "model_module": "@jupyter-widgets/base",
          "model_name": "LayoutModel",
          "model_module_version": "1.2.0",
          "state": {
            "_model_module": "@jupyter-widgets/base",
            "_model_module_version": "1.2.0",
            "_model_name": "LayoutModel",
            "_view_count": null,
            "_view_module": "@jupyter-widgets/base",
            "_view_module_version": "1.2.0",
            "_view_name": "LayoutView",
            "align_content": null,
            "align_items": null,
            "align_self": null,
            "border": null,
            "bottom": null,
            "display": null,
            "flex": null,
            "flex_flow": null,
            "grid_area": null,
            "grid_auto_columns": null,
            "grid_auto_flow": null,
            "grid_auto_rows": null,
            "grid_column": null,
            "grid_gap": null,
            "grid_row": null,
            "grid_template_areas": null,
            "grid_template_columns": null,
            "grid_template_rows": null,
            "height": null,
            "justify_content": null,
            "justify_items": null,
            "left": null,
            "margin": null,
            "max_height": null,
            "max_width": null,
            "min_height": null,
            "min_width": null,
            "object_fit": null,
            "object_position": null,
            "order": null,
            "overflow": null,
            "overflow_x": null,
            "overflow_y": null,
            "padding": null,
            "right": null,
            "top": null,
            "visibility": null,
            "width": null
          }
        },
        "d1b609275f9644b79c9af0ba5a447a02": {
          "model_module": "@jupyter-widgets/controls",
          "model_name": "ProgressStyleModel",
          "model_module_version": "1.5.0",
          "state": {
            "_model_module": "@jupyter-widgets/controls",
            "_model_module_version": "1.5.0",
            "_model_name": "ProgressStyleModel",
            "_view_count": null,
            "_view_module": "@jupyter-widgets/base",
            "_view_module_version": "1.2.0",
            "_view_name": "StyleView",
            "bar_color": null,
            "description_width": ""
          }
        },
        "70b4018ecc2e485e89c3c2b5aa9b3eb2": {
          "model_module": "@jupyter-widgets/base",
          "model_name": "LayoutModel",
          "model_module_version": "1.2.0",
          "state": {
            "_model_module": "@jupyter-widgets/base",
            "_model_module_version": "1.2.0",
            "_model_name": "LayoutModel",
            "_view_count": null,
            "_view_module": "@jupyter-widgets/base",
            "_view_module_version": "1.2.0",
            "_view_name": "LayoutView",
            "align_content": null,
            "align_items": null,
            "align_self": null,
            "border": null,
            "bottom": null,
            "display": null,
            "flex": null,
            "flex_flow": null,
            "grid_area": null,
            "grid_auto_columns": null,
            "grid_auto_flow": null,
            "grid_auto_rows": null,
            "grid_column": null,
            "grid_gap": null,
            "grid_row": null,
            "grid_template_areas": null,
            "grid_template_columns": null,
            "grid_template_rows": null,
            "height": null,
            "justify_content": null,
            "justify_items": null,
            "left": null,
            "margin": null,
            "max_height": null,
            "max_width": null,
            "min_height": null,
            "min_width": null,
            "object_fit": null,
            "object_position": null,
            "order": null,
            "overflow": null,
            "overflow_x": null,
            "overflow_y": null,
            "padding": null,
            "right": null,
            "top": null,
            "visibility": null,
            "width": null
          }
        },
        "b2d5a6721fb94d72bbdde3f6a8187adb": {
          "model_module": "@jupyter-widgets/controls",
          "model_name": "DescriptionStyleModel",
          "model_module_version": "1.5.0",
          "state": {
            "_model_module": "@jupyter-widgets/controls",
            "_model_module_version": "1.5.0",
            "_model_name": "DescriptionStyleModel",
            "_view_count": null,
            "_view_module": "@jupyter-widgets/base",
            "_view_module_version": "1.2.0",
            "_view_name": "StyleView",
            "description_width": ""
          }
        },
        "9c032e13cf3b413a8c899af74baf7861": {
          "model_module": "@jupyter-widgets/controls",
          "model_name": "HBoxModel",
          "model_module_version": "1.5.0",
          "state": {
            "_dom_classes": [],
            "_model_module": "@jupyter-widgets/controls",
            "_model_module_version": "1.5.0",
            "_model_name": "HBoxModel",
            "_view_count": null,
            "_view_module": "@jupyter-widgets/controls",
            "_view_module_version": "1.5.0",
            "_view_name": "HBoxView",
            "box_style": "",
            "children": [
              "IPY_MODEL_dd1187b804124790844728bd1fe9755b",
              "IPY_MODEL_fc5a0c34cc4f4f829a04eb46b824a56b",
              "IPY_MODEL_62e63fc2c29c448fa6faf73437429bb7"
            ],
            "layout": "IPY_MODEL_96cfdd361fd441d082c3582fed510008"
          }
        },
        "dd1187b804124790844728bd1fe9755b": {
          "model_module": "@jupyter-widgets/controls",
          "model_name": "HTMLModel",
          "model_module_version": "1.5.0",
          "state": {
            "_dom_classes": [],
            "_model_module": "@jupyter-widgets/controls",
            "_model_module_version": "1.5.0",
            "_model_name": "HTMLModel",
            "_view_count": null,
            "_view_module": "@jupyter-widgets/controls",
            "_view_module_version": "1.5.0",
            "_view_name": "HTMLView",
            "description": "",
            "description_tooltip": null,
            "layout": "IPY_MODEL_c918fa82a0eb417dad9a0ec54a0b6988",
            "placeholder": "​",
            "style": "IPY_MODEL_629f7cac12f2417ebc0534141eb0aa6c",
            "value": "Epoch 2/5: 100%"
          }
        },
        "fc5a0c34cc4f4f829a04eb46b824a56b": {
          "model_module": "@jupyter-widgets/controls",
          "model_name": "FloatProgressModel",
          "model_module_version": "1.5.0",
          "state": {
            "_dom_classes": [],
            "_model_module": "@jupyter-widgets/controls",
            "_model_module_version": "1.5.0",
            "_model_name": "FloatProgressModel",
            "_view_count": null,
            "_view_module": "@jupyter-widgets/controls",
            "_view_module_version": "1.5.0",
            "_view_name": "ProgressView",
            "bar_style": "success",
            "description": "",
            "description_tooltip": null,
            "layout": "IPY_MODEL_9d4f167920094bc894bd8a79fdd715a4",
            "max": 10000,
            "min": 0,
            "orientation": "horizontal",
            "style": "IPY_MODEL_b63c8b5f9598412da4b1b79e5c2f5a08",
            "value": 10000
          }
        },
        "62e63fc2c29c448fa6faf73437429bb7": {
          "model_module": "@jupyter-widgets/controls",
          "model_name": "HTMLModel",
          "model_module_version": "1.5.0",
          "state": {
            "_dom_classes": [],
            "_model_module": "@jupyter-widgets/controls",
            "_model_module_version": "1.5.0",
            "_model_name": "HTMLModel",
            "_view_count": null,
            "_view_module": "@jupyter-widgets/controls",
            "_view_module_version": "1.5.0",
            "_view_name": "HTMLView",
            "description": "",
            "description_tooltip": null,
            "layout": "IPY_MODEL_d2aa11fd19d9473aac2b53c7446f1f53",
            "placeholder": "​",
            "style": "IPY_MODEL_bdae22ca3c094e569ed4058dd74a0572",
            "value": " 10000/10000 [00:33&lt;00:00, 311.57it/s, loss=0.000202]"
          }
        },
        "96cfdd361fd441d082c3582fed510008": {
          "model_module": "@jupyter-widgets/base",
          "model_name": "LayoutModel",
          "model_module_version": "1.2.0",
          "state": {
            "_model_module": "@jupyter-widgets/base",
            "_model_module_version": "1.2.0",
            "_model_name": "LayoutModel",
            "_view_count": null,
            "_view_module": "@jupyter-widgets/base",
            "_view_module_version": "1.2.0",
            "_view_name": "LayoutView",
            "align_content": null,
            "align_items": null,
            "align_self": null,
            "border": null,
            "bottom": null,
            "display": null,
            "flex": null,
            "flex_flow": null,
            "grid_area": null,
            "grid_auto_columns": null,
            "grid_auto_flow": null,
            "grid_auto_rows": null,
            "grid_column": null,
            "grid_gap": null,
            "grid_row": null,
            "grid_template_areas": null,
            "grid_template_columns": null,
            "grid_template_rows": null,
            "height": null,
            "justify_content": null,
            "justify_items": null,
            "left": null,
            "margin": null,
            "max_height": null,
            "max_width": null,
            "min_height": null,
            "min_width": null,
            "object_fit": null,
            "object_position": null,
            "order": null,
            "overflow": null,
            "overflow_x": null,
            "overflow_y": null,
            "padding": null,
            "right": null,
            "top": null,
            "visibility": null,
            "width": null
          }
        },
        "c918fa82a0eb417dad9a0ec54a0b6988": {
          "model_module": "@jupyter-widgets/base",
          "model_name": "LayoutModel",
          "model_module_version": "1.2.0",
          "state": {
            "_model_module": "@jupyter-widgets/base",
            "_model_module_version": "1.2.0",
            "_model_name": "LayoutModel",
            "_view_count": null,
            "_view_module": "@jupyter-widgets/base",
            "_view_module_version": "1.2.0",
            "_view_name": "LayoutView",
            "align_content": null,
            "align_items": null,
            "align_self": null,
            "border": null,
            "bottom": null,
            "display": null,
            "flex": null,
            "flex_flow": null,
            "grid_area": null,
            "grid_auto_columns": null,
            "grid_auto_flow": null,
            "grid_auto_rows": null,
            "grid_column": null,
            "grid_gap": null,
            "grid_row": null,
            "grid_template_areas": null,
            "grid_template_columns": null,
            "grid_template_rows": null,
            "height": null,
            "justify_content": null,
            "justify_items": null,
            "left": null,
            "margin": null,
            "max_height": null,
            "max_width": null,
            "min_height": null,
            "min_width": null,
            "object_fit": null,
            "object_position": null,
            "order": null,
            "overflow": null,
            "overflow_x": null,
            "overflow_y": null,
            "padding": null,
            "right": null,
            "top": null,
            "visibility": null,
            "width": null
          }
        },
        "629f7cac12f2417ebc0534141eb0aa6c": {
          "model_module": "@jupyter-widgets/controls",
          "model_name": "DescriptionStyleModel",
          "model_module_version": "1.5.0",
          "state": {
            "_model_module": "@jupyter-widgets/controls",
            "_model_module_version": "1.5.0",
            "_model_name": "DescriptionStyleModel",
            "_view_count": null,
            "_view_module": "@jupyter-widgets/base",
            "_view_module_version": "1.2.0",
            "_view_name": "StyleView",
            "description_width": ""
          }
        },
        "9d4f167920094bc894bd8a79fdd715a4": {
          "model_module": "@jupyter-widgets/base",
          "model_name": "LayoutModel",
          "model_module_version": "1.2.0",
          "state": {
            "_model_module": "@jupyter-widgets/base",
            "_model_module_version": "1.2.0",
            "_model_name": "LayoutModel",
            "_view_count": null,
            "_view_module": "@jupyter-widgets/base",
            "_view_module_version": "1.2.0",
            "_view_name": "LayoutView",
            "align_content": null,
            "align_items": null,
            "align_self": null,
            "border": null,
            "bottom": null,
            "display": null,
            "flex": null,
            "flex_flow": null,
            "grid_area": null,
            "grid_auto_columns": null,
            "grid_auto_flow": null,
            "grid_auto_rows": null,
            "grid_column": null,
            "grid_gap": null,
            "grid_row": null,
            "grid_template_areas": null,
            "grid_template_columns": null,
            "grid_template_rows": null,
            "height": null,
            "justify_content": null,
            "justify_items": null,
            "left": null,
            "margin": null,
            "max_height": null,
            "max_width": null,
            "min_height": null,
            "min_width": null,
            "object_fit": null,
            "object_position": null,
            "order": null,
            "overflow": null,
            "overflow_x": null,
            "overflow_y": null,
            "padding": null,
            "right": null,
            "top": null,
            "visibility": null,
            "width": null
          }
        },
        "b63c8b5f9598412da4b1b79e5c2f5a08": {
          "model_module": "@jupyter-widgets/controls",
          "model_name": "ProgressStyleModel",
          "model_module_version": "1.5.0",
          "state": {
            "_model_module": "@jupyter-widgets/controls",
            "_model_module_version": "1.5.0",
            "_model_name": "ProgressStyleModel",
            "_view_count": null,
            "_view_module": "@jupyter-widgets/base",
            "_view_module_version": "1.2.0",
            "_view_name": "StyleView",
            "bar_color": null,
            "description_width": ""
          }
        },
        "d2aa11fd19d9473aac2b53c7446f1f53": {
          "model_module": "@jupyter-widgets/base",
          "model_name": "LayoutModel",
          "model_module_version": "1.2.0",
          "state": {
            "_model_module": "@jupyter-widgets/base",
            "_model_module_version": "1.2.0",
            "_model_name": "LayoutModel",
            "_view_count": null,
            "_view_module": "@jupyter-widgets/base",
            "_view_module_version": "1.2.0",
            "_view_name": "LayoutView",
            "align_content": null,
            "align_items": null,
            "align_self": null,
            "border": null,
            "bottom": null,
            "display": null,
            "flex": null,
            "flex_flow": null,
            "grid_area": null,
            "grid_auto_columns": null,
            "grid_auto_flow": null,
            "grid_auto_rows": null,
            "grid_column": null,
            "grid_gap": null,
            "grid_row": null,
            "grid_template_areas": null,
            "grid_template_columns": null,
            "grid_template_rows": null,
            "height": null,
            "justify_content": null,
            "justify_items": null,
            "left": null,
            "margin": null,
            "max_height": null,
            "max_width": null,
            "min_height": null,
            "min_width": null,
            "object_fit": null,
            "object_position": null,
            "order": null,
            "overflow": null,
            "overflow_x": null,
            "overflow_y": null,
            "padding": null,
            "right": null,
            "top": null,
            "visibility": null,
            "width": null
          }
        },
        "bdae22ca3c094e569ed4058dd74a0572": {
          "model_module": "@jupyter-widgets/controls",
          "model_name": "DescriptionStyleModel",
          "model_module_version": "1.5.0",
          "state": {
            "_model_module": "@jupyter-widgets/controls",
            "_model_module_version": "1.5.0",
            "_model_name": "DescriptionStyleModel",
            "_view_count": null,
            "_view_module": "@jupyter-widgets/base",
            "_view_module_version": "1.2.0",
            "_view_name": "StyleView",
            "description_width": ""
          }
        },
        "066fd255e8594f989426dbbccd4edafa": {
          "model_module": "@jupyter-widgets/controls",
          "model_name": "HBoxModel",
          "model_module_version": "1.5.0",
          "state": {
            "_dom_classes": [],
            "_model_module": "@jupyter-widgets/controls",
            "_model_module_version": "1.5.0",
            "_model_name": "HBoxModel",
            "_view_count": null,
            "_view_module": "@jupyter-widgets/controls",
            "_view_module_version": "1.5.0",
            "_view_name": "HBoxView",
            "box_style": "",
            "children": [
              "IPY_MODEL_6fd5247110044a7c95458b35cf81a9a6",
              "IPY_MODEL_827661094ee846c8af12e022f7329aaa",
              "IPY_MODEL_b03d01edb8904a2ca75edf89fa210709"
            ],
            "layout": "IPY_MODEL_7767e69e49714d2f896524dcba9d6078"
          }
        },
        "6fd5247110044a7c95458b35cf81a9a6": {
          "model_module": "@jupyter-widgets/controls",
          "model_name": "HTMLModel",
          "model_module_version": "1.5.0",
          "state": {
            "_dom_classes": [],
            "_model_module": "@jupyter-widgets/controls",
            "_model_module_version": "1.5.0",
            "_model_name": "HTMLModel",
            "_view_count": null,
            "_view_module": "@jupyter-widgets/controls",
            "_view_module_version": "1.5.0",
            "_view_name": "HTMLView",
            "description": "",
            "description_tooltip": null,
            "layout": "IPY_MODEL_4c0fc0e4d2b648c8a6924556646c1cfd",
            "placeholder": "​",
            "style": "IPY_MODEL_f234b1b6290d456198dc99996d6df563",
            "value": "Epoch 3/5: 100%"
          }
        },
        "827661094ee846c8af12e022f7329aaa": {
          "model_module": "@jupyter-widgets/controls",
          "model_name": "FloatProgressModel",
          "model_module_version": "1.5.0",
          "state": {
            "_dom_classes": [],
            "_model_module": "@jupyter-widgets/controls",
            "_model_module_version": "1.5.0",
            "_model_name": "FloatProgressModel",
            "_view_count": null,
            "_view_module": "@jupyter-widgets/controls",
            "_view_module_version": "1.5.0",
            "_view_name": "ProgressView",
            "bar_style": "success",
            "description": "",
            "description_tooltip": null,
            "layout": "IPY_MODEL_b5507ba5bae74d21919cc78f976da6a4",
            "max": 10000,
            "min": 0,
            "orientation": "horizontal",
            "style": "IPY_MODEL_258156b0a10148f89bd605200f558456",
            "value": 10000
          }
        },
        "b03d01edb8904a2ca75edf89fa210709": {
          "model_module": "@jupyter-widgets/controls",
          "model_name": "HTMLModel",
          "model_module_version": "1.5.0",
          "state": {
            "_dom_classes": [],
            "_model_module": "@jupyter-widgets/controls",
            "_model_module_version": "1.5.0",
            "_model_name": "HTMLModel",
            "_view_count": null,
            "_view_module": "@jupyter-widgets/controls",
            "_view_module_version": "1.5.0",
            "_view_name": "HTMLView",
            "description": "",
            "description_tooltip": null,
            "layout": "IPY_MODEL_5275c69f3e4d40d7ab847c661f95cd1f",
            "placeholder": "​",
            "style": "IPY_MODEL_e9b38c5d3cb143d4a7a0f16d515418ad",
            "value": " 10000/10000 [00:33&lt;00:00, 313.65it/s, loss=0.000145]"
          }
        },
        "7767e69e49714d2f896524dcba9d6078": {
          "model_module": "@jupyter-widgets/base",
          "model_name": "LayoutModel",
          "model_module_version": "1.2.0",
          "state": {
            "_model_module": "@jupyter-widgets/base",
            "_model_module_version": "1.2.0",
            "_model_name": "LayoutModel",
            "_view_count": null,
            "_view_module": "@jupyter-widgets/base",
            "_view_module_version": "1.2.0",
            "_view_name": "LayoutView",
            "align_content": null,
            "align_items": null,
            "align_self": null,
            "border": null,
            "bottom": null,
            "display": null,
            "flex": null,
            "flex_flow": null,
            "grid_area": null,
            "grid_auto_columns": null,
            "grid_auto_flow": null,
            "grid_auto_rows": null,
            "grid_column": null,
            "grid_gap": null,
            "grid_row": null,
            "grid_template_areas": null,
            "grid_template_columns": null,
            "grid_template_rows": null,
            "height": null,
            "justify_content": null,
            "justify_items": null,
            "left": null,
            "margin": null,
            "max_height": null,
            "max_width": null,
            "min_height": null,
            "min_width": null,
            "object_fit": null,
            "object_position": null,
            "order": null,
            "overflow": null,
            "overflow_x": null,
            "overflow_y": null,
            "padding": null,
            "right": null,
            "top": null,
            "visibility": null,
            "width": null
          }
        },
        "4c0fc0e4d2b648c8a6924556646c1cfd": {
          "model_module": "@jupyter-widgets/base",
          "model_name": "LayoutModel",
          "model_module_version": "1.2.0",
          "state": {
            "_model_module": "@jupyter-widgets/base",
            "_model_module_version": "1.2.0",
            "_model_name": "LayoutModel",
            "_view_count": null,
            "_view_module": "@jupyter-widgets/base",
            "_view_module_version": "1.2.0",
            "_view_name": "LayoutView",
            "align_content": null,
            "align_items": null,
            "align_self": null,
            "border": null,
            "bottom": null,
            "display": null,
            "flex": null,
            "flex_flow": null,
            "grid_area": null,
            "grid_auto_columns": null,
            "grid_auto_flow": null,
            "grid_auto_rows": null,
            "grid_column": null,
            "grid_gap": null,
            "grid_row": null,
            "grid_template_areas": null,
            "grid_template_columns": null,
            "grid_template_rows": null,
            "height": null,
            "justify_content": null,
            "justify_items": null,
            "left": null,
            "margin": null,
            "max_height": null,
            "max_width": null,
            "min_height": null,
            "min_width": null,
            "object_fit": null,
            "object_position": null,
            "order": null,
            "overflow": null,
            "overflow_x": null,
            "overflow_y": null,
            "padding": null,
            "right": null,
            "top": null,
            "visibility": null,
            "width": null
          }
        },
        "f234b1b6290d456198dc99996d6df563": {
          "model_module": "@jupyter-widgets/controls",
          "model_name": "DescriptionStyleModel",
          "model_module_version": "1.5.0",
          "state": {
            "_model_module": "@jupyter-widgets/controls",
            "_model_module_version": "1.5.0",
            "_model_name": "DescriptionStyleModel",
            "_view_count": null,
            "_view_module": "@jupyter-widgets/base",
            "_view_module_version": "1.2.0",
            "_view_name": "StyleView",
            "description_width": ""
          }
        },
        "b5507ba5bae74d21919cc78f976da6a4": {
          "model_module": "@jupyter-widgets/base",
          "model_name": "LayoutModel",
          "model_module_version": "1.2.0",
          "state": {
            "_model_module": "@jupyter-widgets/base",
            "_model_module_version": "1.2.0",
            "_model_name": "LayoutModel",
            "_view_count": null,
            "_view_module": "@jupyter-widgets/base",
            "_view_module_version": "1.2.0",
            "_view_name": "LayoutView",
            "align_content": null,
            "align_items": null,
            "align_self": null,
            "border": null,
            "bottom": null,
            "display": null,
            "flex": null,
            "flex_flow": null,
            "grid_area": null,
            "grid_auto_columns": null,
            "grid_auto_flow": null,
            "grid_auto_rows": null,
            "grid_column": null,
            "grid_gap": null,
            "grid_row": null,
            "grid_template_areas": null,
            "grid_template_columns": null,
            "grid_template_rows": null,
            "height": null,
            "justify_content": null,
            "justify_items": null,
            "left": null,
            "margin": null,
            "max_height": null,
            "max_width": null,
            "min_height": null,
            "min_width": null,
            "object_fit": null,
            "object_position": null,
            "order": null,
            "overflow": null,
            "overflow_x": null,
            "overflow_y": null,
            "padding": null,
            "right": null,
            "top": null,
            "visibility": null,
            "width": null
          }
        },
        "258156b0a10148f89bd605200f558456": {
          "model_module": "@jupyter-widgets/controls",
          "model_name": "ProgressStyleModel",
          "model_module_version": "1.5.0",
          "state": {
            "_model_module": "@jupyter-widgets/controls",
            "_model_module_version": "1.5.0",
            "_model_name": "ProgressStyleModel",
            "_view_count": null,
            "_view_module": "@jupyter-widgets/base",
            "_view_module_version": "1.2.0",
            "_view_name": "StyleView",
            "bar_color": null,
            "description_width": ""
          }
        },
        "5275c69f3e4d40d7ab847c661f95cd1f": {
          "model_module": "@jupyter-widgets/base",
          "model_name": "LayoutModel",
          "model_module_version": "1.2.0",
          "state": {
            "_model_module": "@jupyter-widgets/base",
            "_model_module_version": "1.2.0",
            "_model_name": "LayoutModel",
            "_view_count": null,
            "_view_module": "@jupyter-widgets/base",
            "_view_module_version": "1.2.0",
            "_view_name": "LayoutView",
            "align_content": null,
            "align_items": null,
            "align_self": null,
            "border": null,
            "bottom": null,
            "display": null,
            "flex": null,
            "flex_flow": null,
            "grid_area": null,
            "grid_auto_columns": null,
            "grid_auto_flow": null,
            "grid_auto_rows": null,
            "grid_column": null,
            "grid_gap": null,
            "grid_row": null,
            "grid_template_areas": null,
            "grid_template_columns": null,
            "grid_template_rows": null,
            "height": null,
            "justify_content": null,
            "justify_items": null,
            "left": null,
            "margin": null,
            "max_height": null,
            "max_width": null,
            "min_height": null,
            "min_width": null,
            "object_fit": null,
            "object_position": null,
            "order": null,
            "overflow": null,
            "overflow_x": null,
            "overflow_y": null,
            "padding": null,
            "right": null,
            "top": null,
            "visibility": null,
            "width": null
          }
        },
        "e9b38c5d3cb143d4a7a0f16d515418ad": {
          "model_module": "@jupyter-widgets/controls",
          "model_name": "DescriptionStyleModel",
          "model_module_version": "1.5.0",
          "state": {
            "_model_module": "@jupyter-widgets/controls",
            "_model_module_version": "1.5.0",
            "_model_name": "DescriptionStyleModel",
            "_view_count": null,
            "_view_module": "@jupyter-widgets/base",
            "_view_module_version": "1.2.0",
            "_view_name": "StyleView",
            "description_width": ""
          }
        },
        "746968307f1a487d84b27eaf3edbaf74": {
          "model_module": "@jupyter-widgets/controls",
          "model_name": "HBoxModel",
          "model_module_version": "1.5.0",
          "state": {
            "_dom_classes": [],
            "_model_module": "@jupyter-widgets/controls",
            "_model_module_version": "1.5.0",
            "_model_name": "HBoxModel",
            "_view_count": null,
            "_view_module": "@jupyter-widgets/controls",
            "_view_module_version": "1.5.0",
            "_view_name": "HBoxView",
            "box_style": "",
            "children": [
              "IPY_MODEL_fd23ab3e26f04b718312a2600e5a798d",
              "IPY_MODEL_2106133b53e1455ca86051f78ad7bcaa",
              "IPY_MODEL_1bedb625d1a24a2dbb213669e490a315"
            ],
            "layout": "IPY_MODEL_ca40b1acd87b4528b2acef0fbf1c5ffd"
          }
        },
        "fd23ab3e26f04b718312a2600e5a798d": {
          "model_module": "@jupyter-widgets/controls",
          "model_name": "HTMLModel",
          "model_module_version": "1.5.0",
          "state": {
            "_dom_classes": [],
            "_model_module": "@jupyter-widgets/controls",
            "_model_module_version": "1.5.0",
            "_model_name": "HTMLModel",
            "_view_count": null,
            "_view_module": "@jupyter-widgets/controls",
            "_view_module_version": "1.5.0",
            "_view_name": "HTMLView",
            "description": "",
            "description_tooltip": null,
            "layout": "IPY_MODEL_dd2a6d64644d44bcb76d458098b2b324",
            "placeholder": "​",
            "style": "IPY_MODEL_975479c9a09a42ea822cc1b16b009e96",
            "value": "Epoch 4/5: 100%"
          }
        },
        "2106133b53e1455ca86051f78ad7bcaa": {
          "model_module": "@jupyter-widgets/controls",
          "model_name": "FloatProgressModel",
          "model_module_version": "1.5.0",
          "state": {
            "_dom_classes": [],
            "_model_module": "@jupyter-widgets/controls",
            "_model_module_version": "1.5.0",
            "_model_name": "FloatProgressModel",
            "_view_count": null,
            "_view_module": "@jupyter-widgets/controls",
            "_view_module_version": "1.5.0",
            "_view_name": "ProgressView",
            "bar_style": "success",
            "description": "",
            "description_tooltip": null,
            "layout": "IPY_MODEL_558d46fe32bf4017b825c4251cebc401",
            "max": 10000,
            "min": 0,
            "orientation": "horizontal",
            "style": "IPY_MODEL_e8a68bd300904a65baf07623f83af733",
            "value": 10000
          }
        },
        "1bedb625d1a24a2dbb213669e490a315": {
          "model_module": "@jupyter-widgets/controls",
          "model_name": "HTMLModel",
          "model_module_version": "1.5.0",
          "state": {
            "_dom_classes": [],
            "_model_module": "@jupyter-widgets/controls",
            "_model_module_version": "1.5.0",
            "_model_name": "HTMLModel",
            "_view_count": null,
            "_view_module": "@jupyter-widgets/controls",
            "_view_module_version": "1.5.0",
            "_view_name": "HTMLView",
            "description": "",
            "description_tooltip": null,
            "layout": "IPY_MODEL_5f5466834985477bba579ff5816600d4",
            "placeholder": "​",
            "style": "IPY_MODEL_f2b04944125a4d47ba506f3cd4d2f330",
            "value": " 10000/10000 [00:33&lt;00:00, 310.19it/s, loss=0.000116]"
          }
        },
        "ca40b1acd87b4528b2acef0fbf1c5ffd": {
          "model_module": "@jupyter-widgets/base",
          "model_name": "LayoutModel",
          "model_module_version": "1.2.0",
          "state": {
            "_model_module": "@jupyter-widgets/base",
            "_model_module_version": "1.2.0",
            "_model_name": "LayoutModel",
            "_view_count": null,
            "_view_module": "@jupyter-widgets/base",
            "_view_module_version": "1.2.0",
            "_view_name": "LayoutView",
            "align_content": null,
            "align_items": null,
            "align_self": null,
            "border": null,
            "bottom": null,
            "display": null,
            "flex": null,
            "flex_flow": null,
            "grid_area": null,
            "grid_auto_columns": null,
            "grid_auto_flow": null,
            "grid_auto_rows": null,
            "grid_column": null,
            "grid_gap": null,
            "grid_row": null,
            "grid_template_areas": null,
            "grid_template_columns": null,
            "grid_template_rows": null,
            "height": null,
            "justify_content": null,
            "justify_items": null,
            "left": null,
            "margin": null,
            "max_height": null,
            "max_width": null,
            "min_height": null,
            "min_width": null,
            "object_fit": null,
            "object_position": null,
            "order": null,
            "overflow": null,
            "overflow_x": null,
            "overflow_y": null,
            "padding": null,
            "right": null,
            "top": null,
            "visibility": null,
            "width": null
          }
        },
        "dd2a6d64644d44bcb76d458098b2b324": {
          "model_module": "@jupyter-widgets/base",
          "model_name": "LayoutModel",
          "model_module_version": "1.2.0",
          "state": {
            "_model_module": "@jupyter-widgets/base",
            "_model_module_version": "1.2.0",
            "_model_name": "LayoutModel",
            "_view_count": null,
            "_view_module": "@jupyter-widgets/base",
            "_view_module_version": "1.2.0",
            "_view_name": "LayoutView",
            "align_content": null,
            "align_items": null,
            "align_self": null,
            "border": null,
            "bottom": null,
            "display": null,
            "flex": null,
            "flex_flow": null,
            "grid_area": null,
            "grid_auto_columns": null,
            "grid_auto_flow": null,
            "grid_auto_rows": null,
            "grid_column": null,
            "grid_gap": null,
            "grid_row": null,
            "grid_template_areas": null,
            "grid_template_columns": null,
            "grid_template_rows": null,
            "height": null,
            "justify_content": null,
            "justify_items": null,
            "left": null,
            "margin": null,
            "max_height": null,
            "max_width": null,
            "min_height": null,
            "min_width": null,
            "object_fit": null,
            "object_position": null,
            "order": null,
            "overflow": null,
            "overflow_x": null,
            "overflow_y": null,
            "padding": null,
            "right": null,
            "top": null,
            "visibility": null,
            "width": null
          }
        },
        "975479c9a09a42ea822cc1b16b009e96": {
          "model_module": "@jupyter-widgets/controls",
          "model_name": "DescriptionStyleModel",
          "model_module_version": "1.5.0",
          "state": {
            "_model_module": "@jupyter-widgets/controls",
            "_model_module_version": "1.5.0",
            "_model_name": "DescriptionStyleModel",
            "_view_count": null,
            "_view_module": "@jupyter-widgets/base",
            "_view_module_version": "1.2.0",
            "_view_name": "StyleView",
            "description_width": ""
          }
        },
        "558d46fe32bf4017b825c4251cebc401": {
          "model_module": "@jupyter-widgets/base",
          "model_name": "LayoutModel",
          "model_module_version": "1.2.0",
          "state": {
            "_model_module": "@jupyter-widgets/base",
            "_model_module_version": "1.2.0",
            "_model_name": "LayoutModel",
            "_view_count": null,
            "_view_module": "@jupyter-widgets/base",
            "_view_module_version": "1.2.0",
            "_view_name": "LayoutView",
            "align_content": null,
            "align_items": null,
            "align_self": null,
            "border": null,
            "bottom": null,
            "display": null,
            "flex": null,
            "flex_flow": null,
            "grid_area": null,
            "grid_auto_columns": null,
            "grid_auto_flow": null,
            "grid_auto_rows": null,
            "grid_column": null,
            "grid_gap": null,
            "grid_row": null,
            "grid_template_areas": null,
            "grid_template_columns": null,
            "grid_template_rows": null,
            "height": null,
            "justify_content": null,
            "justify_items": null,
            "left": null,
            "margin": null,
            "max_height": null,
            "max_width": null,
            "min_height": null,
            "min_width": null,
            "object_fit": null,
            "object_position": null,
            "order": null,
            "overflow": null,
            "overflow_x": null,
            "overflow_y": null,
            "padding": null,
            "right": null,
            "top": null,
            "visibility": null,
            "width": null
          }
        },
        "e8a68bd300904a65baf07623f83af733": {
          "model_module": "@jupyter-widgets/controls",
          "model_name": "ProgressStyleModel",
          "model_module_version": "1.5.0",
          "state": {
            "_model_module": "@jupyter-widgets/controls",
            "_model_module_version": "1.5.0",
            "_model_name": "ProgressStyleModel",
            "_view_count": null,
            "_view_module": "@jupyter-widgets/base",
            "_view_module_version": "1.2.0",
            "_view_name": "StyleView",
            "bar_color": null,
            "description_width": ""
          }
        },
        "5f5466834985477bba579ff5816600d4": {
          "model_module": "@jupyter-widgets/base",
          "model_name": "LayoutModel",
          "model_module_version": "1.2.0",
          "state": {
            "_model_module": "@jupyter-widgets/base",
            "_model_module_version": "1.2.0",
            "_model_name": "LayoutModel",
            "_view_count": null,
            "_view_module": "@jupyter-widgets/base",
            "_view_module_version": "1.2.0",
            "_view_name": "LayoutView",
            "align_content": null,
            "align_items": null,
            "align_self": null,
            "border": null,
            "bottom": null,
            "display": null,
            "flex": null,
            "flex_flow": null,
            "grid_area": null,
            "grid_auto_columns": null,
            "grid_auto_flow": null,
            "grid_auto_rows": null,
            "grid_column": null,
            "grid_gap": null,
            "grid_row": null,
            "grid_template_areas": null,
            "grid_template_columns": null,
            "grid_template_rows": null,
            "height": null,
            "justify_content": null,
            "justify_items": null,
            "left": null,
            "margin": null,
            "max_height": null,
            "max_width": null,
            "min_height": null,
            "min_width": null,
            "object_fit": null,
            "object_position": null,
            "order": null,
            "overflow": null,
            "overflow_x": null,
            "overflow_y": null,
            "padding": null,
            "right": null,
            "top": null,
            "visibility": null,
            "width": null
          }
        },
        "f2b04944125a4d47ba506f3cd4d2f330": {
          "model_module": "@jupyter-widgets/controls",
          "model_name": "DescriptionStyleModel",
          "model_module_version": "1.5.0",
          "state": {
            "_model_module": "@jupyter-widgets/controls",
            "_model_module_version": "1.5.0",
            "_model_name": "DescriptionStyleModel",
            "_view_count": null,
            "_view_module": "@jupyter-widgets/base",
            "_view_module_version": "1.2.0",
            "_view_name": "StyleView",
            "description_width": ""
          }
        },
        "0b5b7a099f1f4ecbab4eafb2a0c6193a": {
          "model_module": "@jupyter-widgets/controls",
          "model_name": "HBoxModel",
          "model_module_version": "1.5.0",
          "state": {
            "_dom_classes": [],
            "_model_module": "@jupyter-widgets/controls",
            "_model_module_version": "1.5.0",
            "_model_name": "HBoxModel",
            "_view_count": null,
            "_view_module": "@jupyter-widgets/controls",
            "_view_module_version": "1.5.0",
            "_view_name": "HBoxView",
            "box_style": "",
            "children": [
              "IPY_MODEL_870e1b4f6f63424991a97ce8aeed2c1c",
              "IPY_MODEL_e0be5c0a7f074e6eab98d9bf67da4dc0",
              "IPY_MODEL_9302022d1f304000b597d9278530cf31"
            ],
            "layout": "IPY_MODEL_ffefb3864da94ac88faaee7e182c428a"
          }
        },
        "870e1b4f6f63424991a97ce8aeed2c1c": {
          "model_module": "@jupyter-widgets/controls",
          "model_name": "HTMLModel",
          "model_module_version": "1.5.0",
          "state": {
            "_dom_classes": [],
            "_model_module": "@jupyter-widgets/controls",
            "_model_module_version": "1.5.0",
            "_model_name": "HTMLModel",
            "_view_count": null,
            "_view_module": "@jupyter-widgets/controls",
            "_view_module_version": "1.5.0",
            "_view_name": "HTMLView",
            "description": "",
            "description_tooltip": null,
            "layout": "IPY_MODEL_330d360af34e4ab1b0f4dce6ca6926e3",
            "placeholder": "​",
            "style": "IPY_MODEL_4cce7a44e9f94423b07387fdd5bdda6d",
            "value": "Epoch 5/5: 100%"
          }
        },
        "e0be5c0a7f074e6eab98d9bf67da4dc0": {
          "model_module": "@jupyter-widgets/controls",
          "model_name": "FloatProgressModel",
          "model_module_version": "1.5.0",
          "state": {
            "_dom_classes": [],
            "_model_module": "@jupyter-widgets/controls",
            "_model_module_version": "1.5.0",
            "_model_name": "FloatProgressModel",
            "_view_count": null,
            "_view_module": "@jupyter-widgets/controls",
            "_view_module_version": "1.5.0",
            "_view_name": "ProgressView",
            "bar_style": "success",
            "description": "",
            "description_tooltip": null,
            "layout": "IPY_MODEL_8525794368a84a53bb06e1d45a5a9fa0",
            "max": 10000,
            "min": 0,
            "orientation": "horizontal",
            "style": "IPY_MODEL_33b4262c818e42f2a314d5859e929c79",
            "value": 10000
          }
        },
        "9302022d1f304000b597d9278530cf31": {
          "model_module": "@jupyter-widgets/controls",
          "model_name": "HTMLModel",
          "model_module_version": "1.5.0",
          "state": {
            "_dom_classes": [],
            "_model_module": "@jupyter-widgets/controls",
            "_model_module_version": "1.5.0",
            "_model_name": "HTMLModel",
            "_view_count": null,
            "_view_module": "@jupyter-widgets/controls",
            "_view_module_version": "1.5.0",
            "_view_name": "HTMLView",
            "description": "",
            "description_tooltip": null,
            "layout": "IPY_MODEL_4a6f6ac7dc4349a6897fd018336a2c34",
            "placeholder": "​",
            "style": "IPY_MODEL_efc2be4e8079485daa2bec5a78cfc0e0",
            "value": " 10000/10000 [00:34&lt;00:00, 296.07it/s, loss=9.5e-5]"
          }
        },
        "ffefb3864da94ac88faaee7e182c428a": {
          "model_module": "@jupyter-widgets/base",
          "model_name": "LayoutModel",
          "model_module_version": "1.2.0",
          "state": {
            "_model_module": "@jupyter-widgets/base",
            "_model_module_version": "1.2.0",
            "_model_name": "LayoutModel",
            "_view_count": null,
            "_view_module": "@jupyter-widgets/base",
            "_view_module_version": "1.2.0",
            "_view_name": "LayoutView",
            "align_content": null,
            "align_items": null,
            "align_self": null,
            "border": null,
            "bottom": null,
            "display": null,
            "flex": null,
            "flex_flow": null,
            "grid_area": null,
            "grid_auto_columns": null,
            "grid_auto_flow": null,
            "grid_auto_rows": null,
            "grid_column": null,
            "grid_gap": null,
            "grid_row": null,
            "grid_template_areas": null,
            "grid_template_columns": null,
            "grid_template_rows": null,
            "height": null,
            "justify_content": null,
            "justify_items": null,
            "left": null,
            "margin": null,
            "max_height": null,
            "max_width": null,
            "min_height": null,
            "min_width": null,
            "object_fit": null,
            "object_position": null,
            "order": null,
            "overflow": null,
            "overflow_x": null,
            "overflow_y": null,
            "padding": null,
            "right": null,
            "top": null,
            "visibility": null,
            "width": null
          }
        },
        "330d360af34e4ab1b0f4dce6ca6926e3": {
          "model_module": "@jupyter-widgets/base",
          "model_name": "LayoutModel",
          "model_module_version": "1.2.0",
          "state": {
            "_model_module": "@jupyter-widgets/base",
            "_model_module_version": "1.2.0",
            "_model_name": "LayoutModel",
            "_view_count": null,
            "_view_module": "@jupyter-widgets/base",
            "_view_module_version": "1.2.0",
            "_view_name": "LayoutView",
            "align_content": null,
            "align_items": null,
            "align_self": null,
            "border": null,
            "bottom": null,
            "display": null,
            "flex": null,
            "flex_flow": null,
            "grid_area": null,
            "grid_auto_columns": null,
            "grid_auto_flow": null,
            "grid_auto_rows": null,
            "grid_column": null,
            "grid_gap": null,
            "grid_row": null,
            "grid_template_areas": null,
            "grid_template_columns": null,
            "grid_template_rows": null,
            "height": null,
            "justify_content": null,
            "justify_items": null,
            "left": null,
            "margin": null,
            "max_height": null,
            "max_width": null,
            "min_height": null,
            "min_width": null,
            "object_fit": null,
            "object_position": null,
            "order": null,
            "overflow": null,
            "overflow_x": null,
            "overflow_y": null,
            "padding": null,
            "right": null,
            "top": null,
            "visibility": null,
            "width": null
          }
        },
        "4cce7a44e9f94423b07387fdd5bdda6d": {
          "model_module": "@jupyter-widgets/controls",
          "model_name": "DescriptionStyleModel",
          "model_module_version": "1.5.0",
          "state": {
            "_model_module": "@jupyter-widgets/controls",
            "_model_module_version": "1.5.0",
            "_model_name": "DescriptionStyleModel",
            "_view_count": null,
            "_view_module": "@jupyter-widgets/base",
            "_view_module_version": "1.2.0",
            "_view_name": "StyleView",
            "description_width": ""
          }
        },
        "8525794368a84a53bb06e1d45a5a9fa0": {
          "model_module": "@jupyter-widgets/base",
          "model_name": "LayoutModel",
          "model_module_version": "1.2.0",
          "state": {
            "_model_module": "@jupyter-widgets/base",
            "_model_module_version": "1.2.0",
            "_model_name": "LayoutModel",
            "_view_count": null,
            "_view_module": "@jupyter-widgets/base",
            "_view_module_version": "1.2.0",
            "_view_name": "LayoutView",
            "align_content": null,
            "align_items": null,
            "align_self": null,
            "border": null,
            "bottom": null,
            "display": null,
            "flex": null,
            "flex_flow": null,
            "grid_area": null,
            "grid_auto_columns": null,
            "grid_auto_flow": null,
            "grid_auto_rows": null,
            "grid_column": null,
            "grid_gap": null,
            "grid_row": null,
            "grid_template_areas": null,
            "grid_template_columns": null,
            "grid_template_rows": null,
            "height": null,
            "justify_content": null,
            "justify_items": null,
            "left": null,
            "margin": null,
            "max_height": null,
            "max_width": null,
            "min_height": null,
            "min_width": null,
            "object_fit": null,
            "object_position": null,
            "order": null,
            "overflow": null,
            "overflow_x": null,
            "overflow_y": null,
            "padding": null,
            "right": null,
            "top": null,
            "visibility": null,
            "width": null
          }
        },
        "33b4262c818e42f2a314d5859e929c79": {
          "model_module": "@jupyter-widgets/controls",
          "model_name": "ProgressStyleModel",
          "model_module_version": "1.5.0",
          "state": {
            "_model_module": "@jupyter-widgets/controls",
            "_model_module_version": "1.5.0",
            "_model_name": "ProgressStyleModel",
            "_view_count": null,
            "_view_module": "@jupyter-widgets/base",
            "_view_module_version": "1.2.0",
            "_view_name": "StyleView",
            "bar_color": null,
            "description_width": ""
          }
        },
        "4a6f6ac7dc4349a6897fd018336a2c34": {
          "model_module": "@jupyter-widgets/base",
          "model_name": "LayoutModel",
          "model_module_version": "1.2.0",
          "state": {
            "_model_module": "@jupyter-widgets/base",
            "_model_module_version": "1.2.0",
            "_model_name": "LayoutModel",
            "_view_count": null,
            "_view_module": "@jupyter-widgets/base",
            "_view_module_version": "1.2.0",
            "_view_name": "LayoutView",
            "align_content": null,
            "align_items": null,
            "align_self": null,
            "border": null,
            "bottom": null,
            "display": null,
            "flex": null,
            "flex_flow": null,
            "grid_area": null,
            "grid_auto_columns": null,
            "grid_auto_flow": null,
            "grid_auto_rows": null,
            "grid_column": null,
            "grid_gap": null,
            "grid_row": null,
            "grid_template_areas": null,
            "grid_template_columns": null,
            "grid_template_rows": null,
            "height": null,
            "justify_content": null,
            "justify_items": null,
            "left": null,
            "margin": null,
            "max_height": null,
            "max_width": null,
            "min_height": null,
            "min_width": null,
            "object_fit": null,
            "object_position": null,
            "order": null,
            "overflow": null,
            "overflow_x": null,
            "overflow_y": null,
            "padding": null,
            "right": null,
            "top": null,
            "visibility": null,
            "width": null
          }
        },
        "efc2be4e8079485daa2bec5a78cfc0e0": {
          "model_module": "@jupyter-widgets/controls",
          "model_name": "DescriptionStyleModel",
          "model_module_version": "1.5.0",
          "state": {
            "_model_module": "@jupyter-widgets/controls",
            "_model_module_version": "1.5.0",
            "_model_name": "DescriptionStyleModel",
            "_view_count": null,
            "_view_module": "@jupyter-widgets/base",
            "_view_module_version": "1.2.0",
            "_view_name": "StyleView",
            "description_width": ""
          }
        }
      }
    }
  },
  "cells": [
    {
      "cell_type": "markdown",
      "source": [
        "# Initial cleaning of dataset (similar to supervised model cleaning)"
      ],
      "metadata": {
        "id": "vIFD_blyGJXV"
      }
    },
    {
      "cell_type": "code",
      "source": [
        "import pandas as pd\n",
        "import numpy as np\n",
        "from sklearn.preprocessing import StandardScaler\n",
        "from sklearn.model_selection import train_test_split\n",
        "\n",
        "df = pd.read_csv('accepted_2007_to_2018Q4.csv', low_memory=False)"
      ],
      "metadata": {
        "id": "ocDAklZpxF3j"
      },
      "execution_count": null,
      "outputs": []
    },
    {
      "cell_type": "code",
      "source": [
        "# Filtering relevant loan statuses\n",
        "final_status = ['Fully Paid', 'Charged Off', 'Default']\n",
        "df = df[df['loan_status'].isin(final_status)].copy()"
      ],
      "metadata": {
        "id": "DDBte6QTxVO0"
      },
      "execution_count": null,
      "outputs": []
    },
    {
      "cell_type": "code",
      "source": [
        "# Creating binary targets\n",
        "df['target'] = df['loan_status'].apply(lambda x: 1 if x in ['Charged Off', 'Default'] else 0)\n",
        "\n",
        "# Drop columns with >50% missing values\n",
        "missing_ratio = df.isnull().mean()\n",
        "df.drop(columns=missing_ratio[missing_ratio > 0.5].index, inplace=True)\n",
        "\n",
        "# Drop irrelevant text columns\n",
        "drop_cols = ['member_id', 'id', 'url', 'title', 'zip_code', 'issue_d',\n",
        "             'earliest_cr_line', 'last_pymnt_d', 'last_credit_pull_d',\n",
        "             'emp_title', 'loan_status', 'pymnt_plan', 'initial_list_status',\n",
        "             'disbursement_method']\n",
        "df.drop(columns=[c for c in drop_cols if c in df.columns], inplace=True)\n",
        "\n",
        "# Encode binary flags\n",
        "binary_map = {'Y': 1, 'N': 0}\n",
        "for col in ['hardship_flag', 'debt_settlement_flag']:\n",
        "    if col in df.columns:\n",
        "        df[col] = df[col].map(binary_map)\n",
        "\n",
        "# Fill missing values\n",
        "df['emp_length'] = df['emp_length'].fillna('Unknown')\n",
        "df['dti'] = df['dti'].fillna(df['dti'].median())\n",
        "df['revol_util'] = df['revol_util'].fillna(df['revol_util'].median())\n",
        "\n",
        "# Ordinal encoding\n",
        "df['term'] = df['term'].apply(lambda x: 0 if '36' in x else 1)\n",
        "grade_map = {'A': 1, 'B': 2, 'C': 3, 'D': 4, 'E': 5, 'F': 6, 'G': 7}\n",
        "df['grade'] = df['grade'].map(grade_map)\n",
        "\n",
        "# Clean emp_length\n",
        "import re\n",
        "def clean_emp_length(x):\n",
        "    if x == 'Unknown': return 0\n",
        "    match = re.findall(r'\\d+', str(x))\n",
        "    return int(match[0]) if match else 0\n",
        "df['emp_length'] = df['emp_length'].apply(clean_emp_length)\n",
        "\n",
        "# One-hot encode categorical columns\n",
        "categorical_cols = ['home_ownership', 'verification_status', 'purpose', 'addr_state', 'application_type']\n",
        "df = pd.get_dummies(df, columns=categorical_cols, drop_first=True)\n",
        "\n",
        "# Final cleanup: drop any remaining object columns\n",
        "df.drop(columns=df.select_dtypes(include='object').columns, inplace=True)\n",
        "\n",
        "print(df.columns.tolist())\n",
        "\n"
      ],
      "metadata": {
        "colab": {
          "base_uri": "https://localhost:8080/"
        },
        "id": "TA8ZVlo3xYnM",
        "outputId": "533ad608-417e-46d8-a449-94c050ef5560"
      },
      "execution_count": null,
      "outputs": [
        {
          "output_type": "stream",
          "name": "stdout",
          "text": [
            "['loan_amnt', 'funded_amnt', 'funded_amnt_inv', 'term', 'int_rate', 'installment', 'grade', 'emp_length', 'annual_inc', 'dti', 'delinq_2yrs', 'fico_range_low', 'fico_range_high', 'inq_last_6mths', 'mths_since_last_delinq', 'open_acc', 'pub_rec', 'revol_bal', 'revol_util', 'total_acc', 'out_prncp', 'out_prncp_inv', 'total_pymnt', 'total_pymnt_inv', 'total_rec_prncp', 'total_rec_int', 'total_rec_late_fee', 'recoveries', 'collection_recovery_fee', 'last_pymnt_amnt', 'last_fico_range_high', 'last_fico_range_low', 'collections_12_mths_ex_med', 'policy_code', 'acc_now_delinq', 'tot_coll_amt', 'tot_cur_bal', 'open_acc_6m', 'open_act_il', 'open_il_12m', 'open_il_24m', 'mths_since_rcnt_il', 'total_bal_il', 'il_util', 'open_rv_12m', 'open_rv_24m', 'max_bal_bc', 'all_util', 'total_rev_hi_lim', 'inq_fi', 'total_cu_tl', 'inq_last_12m', 'acc_open_past_24mths', 'avg_cur_bal', 'bc_open_to_buy', 'bc_util', 'chargeoff_within_12_mths', 'delinq_amnt', 'mo_sin_old_il_acct', 'mo_sin_old_rev_tl_op', 'mo_sin_rcnt_rev_tl_op', 'mo_sin_rcnt_tl', 'mort_acc', 'mths_since_recent_bc', 'mths_since_recent_inq', 'num_accts_ever_120_pd', 'num_actv_bc_tl', 'num_actv_rev_tl', 'num_bc_sats', 'num_bc_tl', 'num_il_tl', 'num_op_rev_tl', 'num_rev_accts', 'num_rev_tl_bal_gt_0', 'num_sats', 'num_tl_120dpd_2m', 'num_tl_30dpd', 'num_tl_90g_dpd_24m', 'num_tl_op_past_12m', 'pct_tl_nvr_dlq', 'percent_bc_gt_75', 'pub_rec_bankruptcies', 'tax_liens', 'tot_hi_cred_lim', 'total_bal_ex_mort', 'total_bc_limit', 'total_il_high_credit_limit', 'hardship_flag', 'debt_settlement_flag', 'target', 'home_ownership_OWN', 'home_ownership_RENT', 'verification_status_Source Verified', 'verification_status_Verified', 'purpose_credit_card', 'purpose_debt_consolidation', 'purpose_home_improvement', 'purpose_house', 'purpose_major_purchase', 'purpose_medical', 'purpose_moving', 'purpose_other', 'purpose_renewable_energy', 'purpose_small_business', 'purpose_vacation', 'addr_state_AL', 'addr_state_AR', 'addr_state_AZ', 'addr_state_CA', 'addr_state_CO', 'addr_state_CT', 'addr_state_DC', 'addr_state_DE', 'addr_state_FL', 'addr_state_GA', 'addr_state_HI', 'addr_state_IL', 'addr_state_IN', 'addr_state_KS', 'addr_state_KY', 'addr_state_LA', 'addr_state_MA', 'addr_state_MD', 'addr_state_ME', 'addr_state_MI', 'addr_state_MN', 'addr_state_MO', 'addr_state_MS', 'addr_state_MT', 'addr_state_NC', 'addr_state_ND', 'addr_state_NE', 'addr_state_NH', 'addr_state_NJ', 'addr_state_NM', 'addr_state_NV', 'addr_state_NY', 'addr_state_OH', 'addr_state_OK', 'addr_state_OR', 'addr_state_PA', 'addr_state_RI', 'addr_state_SC', 'addr_state_SD', 'addr_state_TN', 'addr_state_TX', 'addr_state_UT', 'addr_state_VA', 'addr_state_VT', 'addr_state_WA', 'addr_state_WI', 'addr_state_WV', 'addr_state_WY', 'application_type_Joint App']\n"
          ]
        }
      ]
    },
    {
      "cell_type": "code",
      "source": [
        "# Save full cleaned DataFrame including target\n",
        "df.to_csv('cleaned_loan_data_with_target.csv', index=False)"
      ],
      "metadata": {
        "id": "-aRghU3kx4-j"
      },
      "execution_count": null,
      "outputs": []
    },
    {
      "cell_type": "markdown",
      "source": [
        "# Using the cleaned dataset for Reinforcement learning"
      ],
      "metadata": {
        "id": "aJ-KwkunlJP6"
      }
    },
    {
      "cell_type": "code",
      "source": [
        "import pandas as pd\n",
        "df = pd.read_csv('cleaned_loan_data_with_target.csv')"
      ],
      "metadata": {
        "id": "jZArxcv6sRFV"
      },
      "execution_count": null,
      "outputs": []
    },
    {
      "cell_type": "code",
      "source": [
        "df_rl = df.copy()\n",
        "\n",
        "# Action: always 1 (approved)\n",
        "df_rl['action'] = 1\n",
        "\n",
        "# Reward:\n",
        "df['reward'] = df.apply(\n",
        "    lambda row: row['loan_amnt'] * row['int_rate'] / 100 if row['target'] == 0 else -row['loan_amnt'],\n",
        "    axis=1\n",
        ")\n",
        "\n",
        "# State: drop target, reward, action\n",
        "state_cols = [c for c in df_rl.columns if c not in ['target', 'reward', 'action']]"
      ],
      "metadata": {
        "id": "1VmxXxQOswUG"
      },
      "execution_count": null,
      "outputs": []
    },
    {
      "cell_type": "markdown",
      "source": [
        "# Normalizing Features"
      ],
      "metadata": {
        "id": "WNswiDTW-R9E"
      }
    },
    {
      "cell_type": "code",
      "source": [
        "reward_scale = 10000.0\n",
        "df['reward'] = df.apply(\n",
        "    lambda row: (row['loan_amnt'] * row['int_rate'] / 100) / reward_scale if row['target'] == 0\n",
        "    else -row['loan_amnt'] / reward_scale,\n",
        "    axis=1\n",
        ")\n"
      ],
      "metadata": {
        "id": "h1BsMblx-gfT"
      },
      "execution_count": null,
      "outputs": []
    },
    {
      "cell_type": "code",
      "source": [
        "# Checking how many columns still have NaN values\n",
        "nan_cols = df[state_cols].isnull().sum()\n",
        "print(nan_cols[nan_cols > 0])\n"
      ],
      "metadata": {
        "colab": {
          "base_uri": "https://localhost:8080/"
        },
        "id": "gSJ380FR-p-3",
        "outputId": "a7378b50-79d0-4103-a8f9-863bbc948668"
      },
      "execution_count": null,
      "outputs": [
        {
          "output_type": "stream",
          "name": "stdout",
          "text": [
            "mths_since_last_delinq        1807\n",
            "mths_since_rcnt_il              88\n",
            "il_util                        458\n",
            "bc_open_to_buy                  42\n",
            "bc_util                         44\n",
            "mo_sin_old_il_acct              88\n",
            "mths_since_recent_bc            41\n",
            "mths_since_recent_inq          408\n",
            "num_actv_rev_tl                  1\n",
            "num_bc_sats                      1\n",
            "num_bc_tl                        1\n",
            "num_il_tl                        1\n",
            "num_op_rev_tl                    1\n",
            "num_rev_accts                    1\n",
            "num_rev_tl_bal_gt_0              1\n",
            "num_sats                         1\n",
            "num_tl_120dpd_2m               314\n",
            "num_tl_30dpd                     1\n",
            "num_tl_90g_dpd_24m               1\n",
            "num_tl_op_past_12m               1\n",
            "pct_tl_nvr_dlq                   1\n",
            "percent_bc_gt_75                48\n",
            "pub_rec_bankruptcies             1\n",
            "tax_liens                        1\n",
            "tot_hi_cred_lim                  1\n",
            "total_bal_ex_mort                1\n",
            "total_bc_limit                   1\n",
            "total_il_high_credit_limit       1\n",
            "hardship_flag                    1\n",
            "debt_settlement_flag             1\n",
            "dtype: int64\n"
          ]
        }
      ]
    },
    {
      "cell_type": "code",
      "source": [
        "# Replacing NaN values based on whether it is numerical or categorical data\n",
        "for col in df[state_cols].columns:\n",
        "    if df[col].isnull().any():\n",
        "        if df[col].dtype == 'float' or df[col].dtype == 'int':\n",
        "            df[col] = df[col].fillna(df[col].median())\n",
        "        else:\n",
        "            df[col] = df[col].fillna('Unknown')\n"
      ],
      "metadata": {
        "id": "3qjGkBDe-wTE"
      },
      "execution_count": null,
      "outputs": []
    },
    {
      "cell_type": "code",
      "source": [
        "# Confirming there is no more NaN values in columns\n",
        "assert not df[state_cols].isnull().any().any(), \"Still NaNs after filling!\"\n"
      ],
      "metadata": {
        "id": "usJZ18x3-yJS"
      },
      "execution_count": null,
      "outputs": []
    },
    {
      "cell_type": "code",
      "source": [
        "# Scaling features\n",
        "from sklearn.preprocessing import StandardScaler\n",
        "\n",
        "scaler = StandardScaler()\n",
        "X_scaled = scaler.fit_transform(df[state_cols])\n"
      ],
      "metadata": {
        "id": "9eBxflFh-0Rf"
      },
      "execution_count": null,
      "outputs": []
    },
    {
      "cell_type": "code",
      "source": [
        "# Confirming there is no NaN values after scaling\n",
        "assert not np.isnan(X_scaled).any(), \"NaNs in scaled features!\"\n"
      ],
      "metadata": {
        "id": "Uq_haPkp-2-a"
      },
      "execution_count": null,
      "outputs": []
    },
    {
      "cell_type": "markdown",
      "source": [
        "# Training the RL Agent using DQN (Deep Q-Network)"
      ],
      "metadata": {
        "id": "4jqtoPQZyRJ0"
      }
    },
    {
      "cell_type": "code",
      "source": [
        "from d3rlpy.dataset import MDPDataset\n",
        "from d3rlpy.algos import CQL\n",
        "from sklearn.model_selection import train_test_split\n",
        "import numpy as np\n",
        "\n",
        "# Preparing the  dataset\n",
        "X_scaled = df[state_cols].values.astype(np.float32)\n",
        "actions = np.ones(len(df), dtype=np.int32)\n",
        "rewards = df['reward'].values.astype(np.float32)\n",
        "terminals = np.ones_like(rewards, dtype=bool)"
      ],
      "metadata": {
        "id": "LUEEPlJ10jip"
      },
      "execution_count": null,
      "outputs": []
    },
    {
      "cell_type": "code",
      "source": [
        "# Splitting the dataset for training, validation and testing\n",
        "from sklearn.model_selection import train_test_split\n",
        "\n",
        "X_train, X_val, a_train, a_val, r_train, r_val, t_train, t_val, train_indices, X_val_indices = train_test_split(\n",
        "    X_scaled, actions, rewards, terminals, range(len(X_scaled)), test_size=0.1, random_state=42\n",
        ")"
      ],
      "metadata": {
        "id": "BU9WHUyB14NP"
      },
      "execution_count": null,
      "outputs": []
    },
    {
      "cell_type": "markdown",
      "source": [
        "# Test approach\n",
        "Creating an MDP dataset for training the reinforcement learning agent\n",
        "Stores:\n",
        "- States (X)\n",
        "- actions (a)\n",
        "- rewards (r)\n",
        "- terminal flags (t)"
      ],
      "metadata": {
        "id": "yzihVXt7nf9L"
      }
    },
    {
      "cell_type": "code",
      "source": [
        "from d3rlpy.dataset import MDPDataset\n",
        "\n",
        "dataset = MDPDataset(X_train, a_train, r_train, t_train)\n"
      ],
      "metadata": {
        "colab": {
          "base_uri": "https://localhost:8080/"
        },
        "id": "hOMnd3lR2ScL",
        "outputId": "946e5801-9199-4067-f859-044903eee9a9"
      },
      "execution_count": null,
      "outputs": [
        {
          "output_type": "stream",
          "name": "stdout",
          "text": [
            "\u001b[2m2025-10-29 22:00.07\u001b[0m [\u001b[32m\u001b[1minfo     \u001b[0m] \u001b[1mSignatures have been automatically determined.\u001b[0m \u001b[36maction_signature\u001b[0m=\u001b[35mSignature(dtype=[dtype('int32')], shape=[(1,)])\u001b[0m \u001b[36mobservation_signature\u001b[0m=\u001b[35mSignature(dtype=[dtype('float32')], shape=[(153,)])\u001b[0m \u001b[36mreward_signature\u001b[0m=\u001b[35mSignature(dtype=[dtype('float32')], shape=[(1,)])\u001b[0m\n",
            "\u001b[2m2025-10-29 22:00.07\u001b[0m [\u001b[32m\u001b[1minfo     \u001b[0m] \u001b[1mAction-space has been automatically determined.\u001b[0m \u001b[36maction_space\u001b[0m=\u001b[35m<ActionSpace.DISCRETE: 2>\u001b[0m\n",
            "\u001b[2m2025-10-29 22:00.07\u001b[0m [\u001b[32m\u001b[1minfo     \u001b[0m] \u001b[1mAction size has been automatically determined.\u001b[0m \u001b[36maction_size\u001b[0m=\u001b[35m2\u001b[0m\n"
          ]
        }
      ]
    },
    {
      "cell_type": "markdown",
      "source": [
        "# Testing the DQN training pipeline to check whether dataset structure is valid or not"
      ],
      "metadata": {
        "id": "dNJyxe7RpSky"
      }
    },
    {
      "cell_type": "code",
      "source": [
        "from d3rlpy.algos import DQN, DQNConfig\n",
        "\n",
        "config = DQNConfig()\n",
        "\n",
        "# Initialize agent with required arguments\n",
        "dqn = DQN(config=config, device='cpu', enable_ddp=False)\n",
        "\n",
        "dqn.fit(dataset, n_steps=10)"
      ],
      "metadata": {
        "colab": {
          "base_uri": "https://localhost:8080/"
        },
        "id": "a8eCiozD2UA1",
        "outputId": "bed1724d-735d-4e99-e099-ef71c7a01ab2"
      },
      "execution_count": null,
      "outputs": [
        {
          "output_type": "stream",
          "name": "stdout",
          "text": [
            "\u001b[2m2025-10-29 22:00.12\u001b[0m [\u001b[32m\u001b[1minfo     \u001b[0m] \u001b[1mdataset info                  \u001b[0m \u001b[36mdataset_info\u001b[0m=\u001b[35mDatasetInfo(observation_signature=Signature(dtype=[dtype('float32')], shape=[(153,)]), action_signature=Signature(dtype=[dtype('int32')], shape=[(1,)]), reward_signature=Signature(dtype=[dtype('float32')], shape=[(1,)]), action_space=<ActionSpace.DISCRETE: 2>, action_size=2)\u001b[0m\n",
            "\u001b[2m2025-10-29 22:00.12\u001b[0m [\u001b[32m\u001b[1mdebug    \u001b[0m] \u001b[1mBuilding models...            \u001b[0m\n",
            "\u001b[2m2025-10-29 22:00.12\u001b[0m [\u001b[32m\u001b[1mdebug    \u001b[0m] \u001b[1mModels have been built.       \u001b[0m\n",
            "\u001b[2m2025-10-29 22:00.12\u001b[0m [\u001b[32m\u001b[1minfo     \u001b[0m] \u001b[1mDirectory is created at d3rlpy_logs/DQN_20251029220012\u001b[0m\n",
            "\u001b[2m2025-10-29 22:00.12\u001b[0m [\u001b[32m\u001b[1minfo     \u001b[0m] \u001b[1mParameters                    \u001b[0m \u001b[36mparams\u001b[0m=\u001b[35m{'observation_shape': [153], 'action_size': 2, 'config': {'type': 'dqn', 'params': {'batch_size': 32, 'gamma': 0.99, 'observation_scaler': {'type': 'none', 'params': {}}, 'action_scaler': {'type': 'none', 'params': {}}, 'reward_scaler': {'type': 'none', 'params': {}}, 'compile_graph': False, 'learning_rate': 6.25e-05, 'optim_factory': {'type': 'adam', 'params': {'clip_grad_norm': None, 'lr_scheduler_factory': {'type': 'none', 'params': {}}, 'betas': [0.9, 0.999], 'eps': 1e-08, 'weight_decay': 0, 'amsgrad': False}}, 'encoder_factory': {'type': 'default', 'params': {'activation': 'relu', 'use_batch_norm': False, 'dropout_rate': None}}, 'q_func_factory': {'type': 'mean', 'params': {'share_encoder': False}}, 'n_critics': 1, 'target_update_interval': 8000}}}\u001b[0m\n"
          ]
        },
        {
          "output_type": "execute_result",
          "data": {
            "text/plain": [
              "[]"
            ]
          },
          "metadata": {},
          "execution_count": 81
        }
      ]
    },
    {
      "cell_type": "markdown",
      "source": [
        "# Predicting actions from the dataset"
      ],
      "metadata": {
        "id": "h-1TSaXjpmpd"
      }
    },
    {
      "cell_type": "code",
      "source": [
        "predicted_actions = dqn.predict(X_val)"
      ],
      "metadata": {
        "id": "Djl1gCif44F5"
      },
      "execution_count": null,
      "outputs": []
    },
    {
      "cell_type": "markdown",
      "source": [
        "# Evaluating the predicted policy on validation data by computing expectated reward (realistic reward function)\n",
        "\n",
        "Reward logic:\n",
        "- If loan is approved and customer repays (target=0): positive profit = loan_amount * interest.\n",
        "- If loan is approved and customer defaults (target=1): loss = -loan_amount.\n",
        "- If loan is denied: no profit/loss = 0."
      ],
      "metadata": {
        "id": "Z1CFnzm4pr2N"
      }
    },
    {
      "cell_type": "code",
      "source": [
        "# Reconstructing validation DataFrame\n",
        "val_df = df.iloc[X_val_indices].copy()\n",
        "\n",
        "# Applying predicted actions\n",
        "val_df['predicted_action'] = predicted_actions\n",
        "\n",
        "# Computing reward based on predicted action (exploratory step)\n",
        "def compute_reward(row):\n",
        "    # Loan approved\n",
        "    if row['predicted_action'] == 1:\n",
        "        return row['loan_amnt'] * row['int_rate'] / 100 if row['target'] == 0 else -row['loan_amnt']\n",
        "\n",
        "    # Loan denied\n",
        "    else:\n",
        "        return 0.0\n",
        "\n",
        "val_df['predicted_reward'] = val_df.apply(compute_reward, axis=1)"
      ],
      "metadata": {
        "id": "iETDbHHx5Nvi"
      },
      "execution_count": null,
      "outputs": []
    },
    {
      "cell_type": "markdown",
      "source": [
        "# Computing average expected reward from the validation predictions"
      ],
      "metadata": {
        "id": "UUOE2w86p-IK"
      }
    },
    {
      "cell_type": "code",
      "source": [
        "average_reward = val_df['predicted_reward'].mean()\n",
        "print(\"Average Predicted Reward:\", average_reward)\n"
      ],
      "metadata": {
        "colab": {
          "base_uri": "https://localhost:8080/"
        },
        "id": "EkSxUpms5RV3",
        "outputId": "bd42dda2-9f3d-4488-9cf9-a283239451ec"
      },
      "execution_count": null,
      "outputs": [
        {
          "output_type": "stream",
          "name": "stdout",
          "text": [
            "Average Predicted Reward: -190.95464572192515\n"
          ]
        }
      ]
    },
    {
      "cell_type": "markdown",
      "source": [
        "# Checking how many approvals vs denials the agent predicted - to assess policy bias"
      ],
      "metadata": {
        "id": "-6RsQsdkqJKS"
      }
    },
    {
      "cell_type": "code",
      "source": [
        "print(val_df['predicted_action'].value_counts())\n"
      ],
      "metadata": {
        "colab": {
          "base_uri": "https://localhost:8080/"
        },
        "id": "KVHVV8kh8-uE",
        "outputId": "723475dd-bf96-4555-c8ca-fcecd5bb0f02"
      },
      "execution_count": null,
      "outputs": [
        {
          "output_type": "stream",
          "name": "stdout",
          "text": [
            "predicted_action\n",
            "0    296\n",
            "1     78\n",
            "Name: count, dtype: int64\n"
          ]
        }
      ]
    },
    {
      "cell_type": "markdown",
      "source": [
        "# Analyzing average reward per predicted action"
      ],
      "metadata": {
        "id": "uCTH-hfEqTkF"
      }
    },
    {
      "cell_type": "code",
      "source": [
        "val_df.groupby('predicted_action')['predicted_reward'].mean()\n"
      ],
      "metadata": {
        "colab": {
          "base_uri": "https://localhost:8080/",
          "height": 176
        },
        "id": "3u5ZP2Zv_Ztp",
        "outputId": "60d93f31-25ff-4dd8-e14c-e4b99617f81a"
      },
      "execution_count": null,
      "outputs": [
        {
          "output_type": "execute_result",
          "data": {
            "text/plain": [
              "predicted_action\n",
              "0      0.000000\n",
              "1   -915.603045\n",
              "Name: predicted_reward, dtype: float64"
            ],
            "text/html": [
              "<div>\n",
              "<style scoped>\n",
              "    .dataframe tbody tr th:only-of-type {\n",
              "        vertical-align: middle;\n",
              "    }\n",
              "\n",
              "    .dataframe tbody tr th {\n",
              "        vertical-align: top;\n",
              "    }\n",
              "\n",
              "    .dataframe thead th {\n",
              "        text-align: right;\n",
              "    }\n",
              "</style>\n",
              "<table border=\"1\" class=\"dataframe\">\n",
              "  <thead>\n",
              "    <tr style=\"text-align: right;\">\n",
              "      <th></th>\n",
              "      <th>predicted_reward</th>\n",
              "    </tr>\n",
              "    <tr>\n",
              "      <th>predicted_action</th>\n",
              "      <th></th>\n",
              "    </tr>\n",
              "  </thead>\n",
              "  <tbody>\n",
              "    <tr>\n",
              "      <th>0</th>\n",
              "      <td>0.000000</td>\n",
              "    </tr>\n",
              "    <tr>\n",
              "      <th>1</th>\n",
              "      <td>-915.603045</td>\n",
              "    </tr>\n",
              "  </tbody>\n",
              "</table>\n",
              "</div><br><label><b>dtype:</b> float64</label>"
            ]
          },
          "metadata": {},
          "execution_count": 87
        }
      ]
    },
    {
      "cell_type": "markdown",
      "source": [
        "# Reward system for the DQN agent to learn a general policy for loan approval (simplified reward definition for RL training)"
      ],
      "metadata": {
        "id": "Pfh_MYQoreBu"
      }
    },
    {
      "cell_type": "code",
      "source": [
        "df['reward'] = df['target'].apply(lambda x: 1.0 if x == 0 else -1.0)\n"
      ],
      "metadata": {
        "id": "owVLW_kG_dok"
      },
      "execution_count": null,
      "outputs": []
    },
    {
      "cell_type": "code",
      "source": [
        "# Assuming all historical loans were approved\n",
        "df['action'] = 1\n"
      ],
      "metadata": {
        "id": "VQvZjAPy_tgB"
      },
      "execution_count": null,
      "outputs": []
    },
    {
      "cell_type": "markdown",
      "source": [
        "# Creating a synthetic dataset for both possible actions:\n",
        "- approved_df: historical real loans (action=1)\n",
        "- denied_df: hypothetical 'deny' cases (action=0, zero reward)"
      ],
      "metadata": {
        "id": "sXmtonuGtROB"
      }
    },
    {
      "cell_type": "code",
      "source": [
        "approved_df = df.copy()\n",
        "denied_df = df.copy()\n",
        "\n",
        "approved_df['action'] = 1\n",
        "approved_df['reward'] = approved_df['target'].apply(lambda x: 1.0 if x == 0 else -1.0)\n",
        "\n",
        "denied_df['action'] = 0\n",
        "\n",
        "# no loan = no gain/loss\n",
        "denied_df['reward'] = 0.0\n",
        "\n",
        "combined_df = pd.concat([approved_df, denied_df], ignore_index=True).sample(frac=1, random_state=42).reset_index(drop=True)\n"
      ],
      "metadata": {
        "id": "REMkb1oO_-ko"
      },
      "execution_count": null,
      "outputs": []
    },
    {
      "cell_type": "markdown",
      "source": [
        "# Preparing numerical features for training"
      ],
      "metadata": {
        "id": "vds-7BxotkLU"
      }
    },
    {
      "cell_type": "code",
      "source": [
        "state_cols = [c for c in combined_df.columns if c not in ['target', 'reward', 'action']]\n",
        "from sklearn.preprocessing import StandardScaler\n",
        "\n",
        "scaler = StandardScaler()\n",
        "X = scaler.fit_transform(combined_df[state_cols])\n",
        "actions = combined_df['action'].values.astype(np.int32)\n",
        "rewards = combined_df['reward'].values.astype(np.float32)\n",
        "terminals = np.ones_like(rewards, dtype=bool)\n"
      ],
      "metadata": {
        "id": "2fTPFrMIAAPi"
      },
      "execution_count": null,
      "outputs": []
    },
    {
      "cell_type": "markdown",
      "source": [
        "# Splitting the dataset into training and validation sets for model evaluation"
      ],
      "metadata": {
        "id": "i_rlFLJbtqDm"
      }
    },
    {
      "cell_type": "code",
      "source": [
        "from sklearn.model_selection import train_test_split\n",
        "\n",
        "X_train, X_val, a_train, a_val, r_train, r_val, t_train, t_val, train_indices, val_indices = train_test_split(\n",
        "    X, actions, rewards, terminals, range(len(X)), test_size=0.1, random_state=42\n",
        ")\n"
      ],
      "metadata": {
        "id": "KICHcK83ACi9"
      },
      "execution_count": null,
      "outputs": []
    },
    {
      "cell_type": "markdown",
      "source": [
        "# Creating an MDP dataset for training the reinforcement learning agent\n",
        "Stores:\n",
        "- States (X)\n",
        "- actions (a)\n",
        "- rewards (r)\n",
        "- terminal flags (t)"
      ],
      "metadata": {
        "id": "SWfJYV85vwJF"
      }
    },
    {
      "cell_type": "code",
      "source": [
        "from d3rlpy.dataset import MDPDataset\n",
        "\n",
        "dataset = MDPDataset(X_train, a_train, r_train, t_train)\n"
      ],
      "metadata": {
        "colab": {
          "base_uri": "https://localhost:8080/"
        },
        "id": "33bANtBaAE2K",
        "outputId": "b1b28a6b-9976-4956-93a4-a19d0fa7d08f"
      },
      "execution_count": null,
      "outputs": [
        {
          "output_type": "stream",
          "name": "stdout",
          "text": [
            "\u001b[2m2025-10-29 22:04.38\u001b[0m [\u001b[32m\u001b[1minfo     \u001b[0m] \u001b[1mSignatures have been automatically determined.\u001b[0m \u001b[36maction_signature\u001b[0m=\u001b[35mSignature(dtype=[dtype('int32')], shape=[(1,)])\u001b[0m \u001b[36mobservation_signature\u001b[0m=\u001b[35mSignature(dtype=[dtype('float64')], shape=[(153,)])\u001b[0m \u001b[36mreward_signature\u001b[0m=\u001b[35mSignature(dtype=[dtype('float32')], shape=[(1,)])\u001b[0m\n",
            "\u001b[2m2025-10-29 22:04.38\u001b[0m [\u001b[32m\u001b[1minfo     \u001b[0m] \u001b[1mAction-space has been automatically determined.\u001b[0m \u001b[36maction_space\u001b[0m=\u001b[35m<ActionSpace.DISCRETE: 2>\u001b[0m\n",
            "\u001b[2m2025-10-29 22:04.38\u001b[0m [\u001b[32m\u001b[1minfo     \u001b[0m] \u001b[1mAction size has been automatically determined.\u001b[0m \u001b[36maction_size\u001b[0m=\u001b[35m2\u001b[0m\n"
          ]
        }
      ]
    },
    {
      "cell_type": "markdown",
      "source": [
        "# Training the DQN agent on the offline loan dataset"
      ],
      "metadata": {
        "id": "JKRenauYvZ1i"
      }
    },
    {
      "cell_type": "code",
      "source": [
        "config = DQNConfig()\n",
        "\n",
        "# Initializing agent with required arguments\n",
        "dqn = DQN(config=config, device='cpu', enable_ddp=False)\n",
        "\n",
        "dqn.fit(dataset, n_steps=50000)"
      ],
      "metadata": {
        "colab": {
          "base_uri": "https://localhost:8080/",
          "height": 905,
          "referenced_widgets": [
            "2d8b7a431e8e4da4a918690d3ec64bfe",
            "333aa51b96c44e0e9edb3bf9815b2961",
            "3ed09684a3bf45b7ae84b0c510cc1205",
            "c16ea9f5eec04ce7a155a7e722bdadbe",
            "c13e0800264040408e0150ab6578de65",
            "9a7ba663086d4dbb8f68dd1eac8b4e5b",
            "0781a62df27e4e1aa3f3b6a5b116e460",
            "12b146cee49a48e494793e6fd230af82",
            "d1b609275f9644b79c9af0ba5a447a02",
            "70b4018ecc2e485e89c3c2b5aa9b3eb2",
            "b2d5a6721fb94d72bbdde3f6a8187adb",
            "9c032e13cf3b413a8c899af74baf7861",
            "dd1187b804124790844728bd1fe9755b",
            "fc5a0c34cc4f4f829a04eb46b824a56b",
            "62e63fc2c29c448fa6faf73437429bb7",
            "96cfdd361fd441d082c3582fed510008",
            "c918fa82a0eb417dad9a0ec54a0b6988",
            "629f7cac12f2417ebc0534141eb0aa6c",
            "9d4f167920094bc894bd8a79fdd715a4",
            "b63c8b5f9598412da4b1b79e5c2f5a08",
            "d2aa11fd19d9473aac2b53c7446f1f53",
            "bdae22ca3c094e569ed4058dd74a0572",
            "066fd255e8594f989426dbbccd4edafa",
            "6fd5247110044a7c95458b35cf81a9a6",
            "827661094ee846c8af12e022f7329aaa",
            "b03d01edb8904a2ca75edf89fa210709",
            "7767e69e49714d2f896524dcba9d6078",
            "4c0fc0e4d2b648c8a6924556646c1cfd",
            "f234b1b6290d456198dc99996d6df563",
            "b5507ba5bae74d21919cc78f976da6a4",
            "258156b0a10148f89bd605200f558456",
            "5275c69f3e4d40d7ab847c661f95cd1f",
            "e9b38c5d3cb143d4a7a0f16d515418ad",
            "746968307f1a487d84b27eaf3edbaf74",
            "fd23ab3e26f04b718312a2600e5a798d",
            "2106133b53e1455ca86051f78ad7bcaa",
            "1bedb625d1a24a2dbb213669e490a315",
            "ca40b1acd87b4528b2acef0fbf1c5ffd",
            "dd2a6d64644d44bcb76d458098b2b324",
            "975479c9a09a42ea822cc1b16b009e96",
            "558d46fe32bf4017b825c4251cebc401",
            "e8a68bd300904a65baf07623f83af733",
            "5f5466834985477bba579ff5816600d4",
            "f2b04944125a4d47ba506f3cd4d2f330",
            "0b5b7a099f1f4ecbab4eafb2a0c6193a",
            "870e1b4f6f63424991a97ce8aeed2c1c",
            "e0be5c0a7f074e6eab98d9bf67da4dc0",
            "9302022d1f304000b597d9278530cf31",
            "ffefb3864da94ac88faaee7e182c428a",
            "330d360af34e4ab1b0f4dce6ca6926e3",
            "4cce7a44e9f94423b07387fdd5bdda6d",
            "8525794368a84a53bb06e1d45a5a9fa0",
            "33b4262c818e42f2a314d5859e929c79",
            "4a6f6ac7dc4349a6897fd018336a2c34",
            "efc2be4e8079485daa2bec5a78cfc0e0"
          ]
        },
        "id": "Tj4qW4FKAGbZ",
        "outputId": "5120b0a8-df92-4426-df76-d5b48b995782"
      },
      "execution_count": null,
      "outputs": [
        {
          "output_type": "stream",
          "name": "stdout",
          "text": [
            "\u001b[2m2025-10-29 22:05.47\u001b[0m [\u001b[32m\u001b[1minfo     \u001b[0m] \u001b[1mdataset info                  \u001b[0m \u001b[36mdataset_info\u001b[0m=\u001b[35mDatasetInfo(observation_signature=Signature(dtype=[dtype('float64')], shape=[(153,)]), action_signature=Signature(dtype=[dtype('int32')], shape=[(1,)]), reward_signature=Signature(dtype=[dtype('float32')], shape=[(1,)]), action_space=<ActionSpace.DISCRETE: 2>, action_size=2)\u001b[0m\n",
            "\u001b[2m2025-10-29 22:05.47\u001b[0m [\u001b[32m\u001b[1mdebug    \u001b[0m] \u001b[1mBuilding models...            \u001b[0m\n",
            "\u001b[2m2025-10-29 22:05.47\u001b[0m [\u001b[32m\u001b[1mdebug    \u001b[0m] \u001b[1mModels have been built.       \u001b[0m\n",
            "\u001b[2m2025-10-29 22:05.47\u001b[0m [\u001b[32m\u001b[1minfo     \u001b[0m] \u001b[1mDirectory is created at d3rlpy_logs/DQN_20251029220547\u001b[0m\n",
            "\u001b[2m2025-10-29 22:05.47\u001b[0m [\u001b[32m\u001b[1minfo     \u001b[0m] \u001b[1mParameters                    \u001b[0m \u001b[36mparams\u001b[0m=\u001b[35m{'observation_shape': [153], 'action_size': 2, 'config': {'type': 'dqn', 'params': {'batch_size': 32, 'gamma': 0.99, 'observation_scaler': {'type': 'none', 'params': {}}, 'action_scaler': {'type': 'none', 'params': {}}, 'reward_scaler': {'type': 'none', 'params': {}}, 'compile_graph': False, 'learning_rate': 6.25e-05, 'optim_factory': {'type': 'adam', 'params': {'clip_grad_norm': None, 'lr_scheduler_factory': {'type': 'none', 'params': {}}, 'betas': [0.9, 0.999], 'eps': 1e-08, 'weight_decay': 0, 'amsgrad': False}}, 'encoder_factory': {'type': 'default', 'params': {'activation': 'relu', 'use_batch_norm': False, 'dropout_rate': None}}, 'q_func_factory': {'type': 'mean', 'params': {'share_encoder': False}}, 'n_critics': 1, 'target_update_interval': 8000}}}\u001b[0m\n"
          ]
        },
        {
          "output_type": "display_data",
          "data": {
            "text/plain": [
              "Epoch 1/5:   0%|          | 0/10000 [00:00<?, ?it/s]"
            ],
            "application/vnd.jupyter.widget-view+json": {
              "version_major": 2,
              "version_minor": 0,
              "model_id": "2d8b7a431e8e4da4a918690d3ec64bfe"
            }
          },
          "metadata": {}
        },
        {
          "output_type": "stream",
          "name": "stdout",
          "text": [
            "\u001b[2m2025-10-29 22:06.22\u001b[0m [\u001b[32m\u001b[1minfo     \u001b[0m] \u001b[1mDQN_20251029220547: epoch=1 step=10000\u001b[0m \u001b[36mepoch\u001b[0m=\u001b[35m1\u001b[0m \u001b[36mmetrics\u001b[0m=\u001b[35m{'time_sample_batch': 0.0007092863082885742, 'time_algorithm_update': 0.002721205759048462, 'loss': 0.010905840966625693, 'time_step': 0.00352421293258667}\u001b[0m \u001b[36mstep\u001b[0m=\u001b[35m10000\u001b[0m\n",
            "\u001b[2m2025-10-29 22:06.22\u001b[0m [\u001b[32m\u001b[1minfo     \u001b[0m] \u001b[1mModel parameters are saved to d3rlpy_logs/DQN_20251029220547/model_10000.d3\u001b[0m\n"
          ]
        },
        {
          "output_type": "display_data",
          "data": {
            "text/plain": [
              "Epoch 2/5:   0%|          | 0/10000 [00:00<?, ?it/s]"
            ],
            "application/vnd.jupyter.widget-view+json": {
              "version_major": 2,
              "version_minor": 0,
              "model_id": "9c032e13cf3b413a8c899af74baf7861"
            }
          },
          "metadata": {}
        },
        {
          "output_type": "stream",
          "name": "stdout",
          "text": [
            "\u001b[2m2025-10-29 22:06.56\u001b[0m [\u001b[32m\u001b[1minfo     \u001b[0m] \u001b[1mDQN_20251029220547: epoch=2 step=20000\u001b[0m \u001b[36mepoch\u001b[0m=\u001b[35m2\u001b[0m \u001b[36mmetrics\u001b[0m=\u001b[35m{'time_sample_batch': 0.0006769908666610718, 'time_algorithm_update': 0.0025758283376693726, 'loss': 0.00020183251825974367, 'time_step': 0.003344250702857971}\u001b[0m \u001b[36mstep\u001b[0m=\u001b[35m20000\u001b[0m\n",
            "\u001b[2m2025-10-29 22:06.56\u001b[0m [\u001b[32m\u001b[1minfo     \u001b[0m] \u001b[1mModel parameters are saved to d3rlpy_logs/DQN_20251029220547/model_20000.d3\u001b[0m\n"
          ]
        },
        {
          "output_type": "display_data",
          "data": {
            "text/plain": [
              "Epoch 3/5:   0%|          | 0/10000 [00:00<?, ?it/s]"
            ],
            "application/vnd.jupyter.widget-view+json": {
              "version_major": 2,
              "version_minor": 0,
              "model_id": "066fd255e8594f989426dbbccd4edafa"
            }
          },
          "metadata": {}
        },
        {
          "output_type": "stream",
          "name": "stdout",
          "text": [
            "\u001b[2m2025-10-29 22:07.30\u001b[0m [\u001b[32m\u001b[1minfo     \u001b[0m] \u001b[1mDQN_20251029220547: epoch=3 step=30000\u001b[0m \u001b[36mepoch\u001b[0m=\u001b[35m3\u001b[0m \u001b[36mmetrics\u001b[0m=\u001b[35m{'time_sample_batch': 0.0006808190107345581, 'time_algorithm_update': 0.002578108763694763, 'loss': 0.00014586059204357298, 'time_step': 0.0033563970565795897}\u001b[0m \u001b[36mstep\u001b[0m=\u001b[35m30000\u001b[0m\n",
            "\u001b[2m2025-10-29 22:07.30\u001b[0m [\u001b[32m\u001b[1minfo     \u001b[0m] \u001b[1mModel parameters are saved to d3rlpy_logs/DQN_20251029220547/model_30000.d3\u001b[0m\n"
          ]
        },
        {
          "output_type": "display_data",
          "data": {
            "text/plain": [
              "Epoch 4/5:   0%|          | 0/10000 [00:00<?, ?it/s]"
            ],
            "application/vnd.jupyter.widget-view+json": {
              "version_major": 2,
              "version_minor": 0,
              "model_id": "746968307f1a487d84b27eaf3edbaf74"
            }
          },
          "metadata": {}
        },
        {
          "output_type": "stream",
          "name": "stdout",
          "text": [
            "\u001b[2m2025-10-29 22:08.04\u001b[0m [\u001b[32m\u001b[1minfo     \u001b[0m] \u001b[1mDQN_20251029220547: epoch=4 step=40000\u001b[0m \u001b[36mepoch\u001b[0m=\u001b[35m4\u001b[0m \u001b[36mmetrics\u001b[0m=\u001b[35m{'time_sample_batch': 0.0006780359029769897, 'time_algorithm_update': 0.002568923234939575, 'loss': 0.000115547615496439, 'time_step': 0.0033425585746765137}\u001b[0m \u001b[36mstep\u001b[0m=\u001b[35m40000\u001b[0m\n",
            "\u001b[2m2025-10-29 22:08.04\u001b[0m [\u001b[32m\u001b[1minfo     \u001b[0m] \u001b[1mModel parameters are saved to d3rlpy_logs/DQN_20251029220547/model_40000.d3\u001b[0m\n"
          ]
        },
        {
          "output_type": "display_data",
          "data": {
            "text/plain": [
              "Epoch 5/5:   0%|          | 0/10000 [00:00<?, ?it/s]"
            ],
            "application/vnd.jupyter.widget-view+json": {
              "version_major": 2,
              "version_minor": 0,
              "model_id": "0b5b7a099f1f4ecbab4eafb2a0c6193a"
            }
          },
          "metadata": {}
        },
        {
          "output_type": "stream",
          "name": "stdout",
          "text": [
            "\u001b[2m2025-10-29 22:08.38\u001b[0m [\u001b[32m\u001b[1minfo     \u001b[0m] \u001b[1mDQN_20251029220547: epoch=5 step=50000\u001b[0m \u001b[36mepoch\u001b[0m=\u001b[35m5\u001b[0m \u001b[36mmetrics\u001b[0m=\u001b[35m{'time_sample_batch': 0.0006920247793197632, 'time_algorithm_update': 0.0026267071723937987, 'loss': 9.508389734853608e-05, 'time_step': 0.0034264955043792726}\u001b[0m \u001b[36mstep\u001b[0m=\u001b[35m50000\u001b[0m\n",
            "\u001b[2m2025-10-29 22:08.38\u001b[0m [\u001b[32m\u001b[1minfo     \u001b[0m] \u001b[1mModel parameters are saved to d3rlpy_logs/DQN_20251029220547/model_50000.d3\u001b[0m\n"
          ]
        },
        {
          "output_type": "execute_result",
          "data": {
            "text/plain": [
              "[(1,\n",
              "  {'time_sample_batch': 0.0007092863082885742,\n",
              "   'time_algorithm_update': 0.002721205759048462,\n",
              "   'loss': 0.010905840966625693,\n",
              "   'time_step': 0.00352421293258667}),\n",
              " (2,\n",
              "  {'time_sample_batch': 0.0006769908666610718,\n",
              "   'time_algorithm_update': 0.0025758283376693726,\n",
              "   'loss': 0.00020183251825974367,\n",
              "   'time_step': 0.003344250702857971}),\n",
              " (3,\n",
              "  {'time_sample_batch': 0.0006808190107345581,\n",
              "   'time_algorithm_update': 0.002578108763694763,\n",
              "   'loss': 0.00014586059204357298,\n",
              "   'time_step': 0.0033563970565795897}),\n",
              " (4,\n",
              "  {'time_sample_batch': 0.0006780359029769897,\n",
              "   'time_algorithm_update': 0.002568923234939575,\n",
              "   'loss': 0.000115547615496439,\n",
              "   'time_step': 0.0033425585746765137}),\n",
              " (5,\n",
              "  {'time_sample_batch': 0.0006920247793197632,\n",
              "   'time_algorithm_update': 0.0026267071723937987,\n",
              "   'loss': 9.508389734853608e-05,\n",
              "   'time_step': 0.0034264955043792726})]"
            ]
          },
          "metadata": {},
          "execution_count": 96
        }
      ]
    },
    {
      "cell_type": "markdown",
      "source": [
        "# Evaluation metric"
      ],
      "metadata": {
        "id": "Y4ezSKTxvh-D"
      }
    },
    {
      "cell_type": "code",
      "source": [
        "predicted_actions = dqn.predict(X_val)\n",
        "val_df = combined_df.iloc[val_indices].copy()\n",
        "val_df['predicted_action'] = predicted_actions\n",
        "\n",
        "def compute_reward(row):\n",
        "    if row['predicted_action'] == 1:\n",
        "        return 1.0 if row['target'] == 0 else -1.0\n",
        "    else:\n",
        "        return 0.0\n",
        "\n",
        "val_df['predicted_reward'] = val_df.apply(compute_reward, axis=1)\n",
        "print(\"Average Predicted Reward:\", val_df['predicted_reward'].mean())\n"
      ],
      "metadata": {
        "colab": {
          "base_uri": "https://localhost:8080/"
        },
        "id": "V_ZePFIBAIRN",
        "outputId": "57a18b98-e6f5-4ecd-a380-0655183b151e"
      },
      "execution_count": null,
      "outputs": [
        {
          "output_type": "stream",
          "name": "stdout",
          "text": [
            "Average Predicted Reward: 0.8235294117647058\n"
          ]
        }
      ]
    },
    {
      "cell_type": "code",
      "source": [],
      "metadata": {
        "id": "3AlStUEXBHlm"
      },
      "execution_count": null,
      "outputs": []
    }
  ]
}