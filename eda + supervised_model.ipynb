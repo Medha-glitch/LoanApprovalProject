{
  "nbformat": 4,
  "nbformat_minor": 0,
  "metadata": {
    "colab": {
      "provenance": [],
      "gpuType": "T4"
    },
    "kernelspec": {
      "name": "python3",
      "display_name": "Python 3"
    },
    "language_info": {
      "name": "python"
    },
    "accelerator": "GPU"
  },
  "cells": [
    {
      "cell_type": "markdown",
      "source": [
        "# Step 1: Loading LendingClub Dataset"
      ],
      "metadata": {
        "id": "sLegbd6OFIoC"
      }
    },
    {
      "cell_type": "code",
      "execution_count": 2,
      "metadata": {
        "id": "qrYbhVIlpLfX"
      },
      "outputs": [],
      "source": [
        "import pandas as pd\n",
        "import numpy as np\n",
        "from sklearn.preprocessing import StandardScaler\n",
        "from sklearn.model_selection import train_test_split\n",
        "\n",
        "# Load dataset\n",
        "df = pd.read_csv('accepted_2007_to_2018Q4.csv', low_memory=False)"
      ]
    },
    {
      "cell_type": "markdown",
      "source": [
        "# Filtering the relevant Loan Statuses"
      ],
      "metadata": {
        "id": "1bnuBrMyFOqQ"
      }
    },
    {
      "cell_type": "code",
      "source": [
        "final_status = ['Fully Paid', 'Charged Off', 'Default']\n",
        "df = df[df['loan_status'].isin(final_status)].copy()\n"
      ],
      "metadata": {
        "id": "DsnKcMVPph2Y"
      },
      "execution_count": 3,
      "outputs": []
    },
    {
      "cell_type": "markdown",
      "source": [
        "# Creating a binary target variable"
      ],
      "metadata": {
        "id": "gg08BbNaFSky"
      }
    },
    {
      "cell_type": "code",
      "source": [
        "df['target'] = df['loan_status'].apply(lambda x: 1 if x in ['Charged Off', 'Default'] else 0)\n"
      ],
      "metadata": {
        "id": "0RZFSBCJplsc"
      },
      "execution_count": 4,
      "outputs": []
    },
    {
      "cell_type": "markdown",
      "source": [
        "# Dropping irrelevant and sparse columns"
      ],
      "metadata": {
        "id": "DFqt5WZaFcSH"
      }
    },
    {
      "cell_type": "code",
      "source": [
        "missing_ratio = df.isnull().mean()\n",
        "df.drop(columns=missing_ratio[missing_ratio > 0.5].index, inplace=True)\n"
      ],
      "metadata": {
        "id": "nxa_svy_pno5"
      },
      "execution_count": 5,
      "outputs": []
    },
    {
      "cell_type": "code",
      "source": [
        "drop_cols = ['member_id', 'id', 'url', 'title', 'zip_code', 'issue_d',\n",
        "             'earliest_cr_line', 'last_pymnt_d', 'last_credit_pull_d',\n",
        "             'emp_title', 'loan_status', 'pymnt_plan', 'initial_list_status',\n",
        "             'disbursement_method']\n",
        "df.drop(columns=[c for c in drop_cols if c in df.columns], inplace=True)\n"
      ],
      "metadata": {
        "id": "jQsX0ZrlpqA2"
      },
      "execution_count": 6,
      "outputs": []
    },
    {
      "cell_type": "markdown",
      "source": [
        "# Encoding Binary Flags and filling missing values"
      ],
      "metadata": {
        "id": "pzYZIgACFlQW"
      }
    },
    {
      "cell_type": "code",
      "source": [
        "binary_map = {'Y': 1, 'N': 0}\n",
        "for col in ['hardship_flag', 'debt_settlement_flag']:\n",
        "    if col in df.columns:\n",
        "        df[col] = df[col].map(binary_map)"
      ],
      "metadata": {
        "id": "mEQYMArppsR1"
      },
      "execution_count": 7,
      "outputs": []
    },
    {
      "cell_type": "code",
      "source": [
        "df['emp_length'] = df['emp_length'].fillna('Unknown')\n",
        "df['dti'] = df['dti'].fillna(df['dti'].median())\n",
        "df['revol_util'] = df['revol_util'].fillna(df['revol_util'].median())\n"
      ],
      "metadata": {
        "id": "XzTCKR4kpuX-"
      },
      "execution_count": 8,
      "outputs": []
    },
    {
      "cell_type": "markdown",
      "source": [
        "# Encoding Categorical features"
      ],
      "metadata": {
        "id": "yDd0A24nFsYA"
      }
    },
    {
      "cell_type": "code",
      "source": [
        "# Ordinal encoding\n",
        "df['term'] = df['term'].apply(lambda x: 0 if '36' in x else 1)\n",
        "grade_map = {'A': 1, 'B': 2, 'C': 3, 'D': 4, 'E': 5, 'F': 6, 'G': 7}\n",
        "df['grade'] = df['grade'].map(grade_map)\n",
        "\n",
        "# Clean emp_length\n",
        "import re\n",
        "def clean_emp_length(x):\n",
        "    if x == 'Unknown': return 0\n",
        "    match = re.findall(r'\\d+', str(x))\n",
        "    return int(match[0]) if match else 0\n",
        "df['emp_length'] = df['emp_length'].apply(clean_emp_length)\n",
        "\n",
        "# One-hot encode categorical columns\n",
        "categorical_cols = ['home_ownership', 'verification_status', 'purpose', 'addr_state', 'application_type']\n",
        "df = pd.get_dummies(df, columns=categorical_cols, drop_first=True)\n"
      ],
      "metadata": {
        "id": "qu5xrdBapwXz"
      },
      "execution_count": 9,
      "outputs": []
    },
    {
      "cell_type": "markdown",
      "source": [
        "# Cleaning up and splitting"
      ],
      "metadata": {
        "id": "HRpzSvvjFyrc"
      }
    },
    {
      "cell_type": "code",
      "source": [
        "df.drop(columns=df.select_dtypes(include='object').columns, inplace=True)\n"
      ],
      "metadata": {
        "id": "Y9C0S__1py1H"
      },
      "execution_count": 10,
      "outputs": []
    },
    {
      "cell_type": "code",
      "source": [
        "# Split features and target\n",
        "X = df.drop(columns=['target'])\n",
        "y = df['target'].values\n",
        "\n",
        "# Train/val/test split\n",
        "SEED = 42\n",
        "X_temp, X_test, y_temp, y_test = train_test_split(X, y, test_size=0.10, random_state=SEED, stratify=y)\n",
        "X_train, X_val, y_train, y_val = train_test_split(X_temp, y_temp, test_size=0.1111, random_state=SEED, stratify=y_temp)\n",
        "\n",
        "# Scale numeric features\n",
        "numeric_cols = X_train.select_dtypes(include=['float64', 'int64']).columns.tolist()\n",
        "scaler = StandardScaler()\n",
        "scaler.fit(X_train[numeric_cols])\n",
        "\n",
        "X_train[numeric_cols] = scaler.transform(X_train[numeric_cols])\n",
        "X_val[numeric_cols] = scaler.transform(X_val[numeric_cols])\n",
        "X_test[numeric_cols] = scaler.transform(X_test[numeric_cols])\n"
      ],
      "metadata": {
        "id": "FZZRJaI7p1hy"
      },
      "execution_count": 11,
      "outputs": []
    },
    {
      "cell_type": "code",
      "source": [
        "# Convert all columns to numeric (float32)\n",
        "X_train = X_train.astype(np.float32)\n",
        "X_val = X_val.astype(np.float32)\n",
        "X_test = X_test.astype(np.float32)\n",
        "\n",
        "print(\"Object columns in X_train:\", X_train.select_dtypes(include='object').columns.tolist())\n"
      ],
      "metadata": {
        "colab": {
          "base_uri": "https://localhost:8080/"
        },
        "id": "HItPSh-pp3gP",
        "outputId": "fb55412b-caca-4ea9-ced7-ccfc7a1b5a07"
      },
      "execution_count": 12,
      "outputs": [
        {
          "output_type": "stream",
          "name": "stdout",
          "text": [
            "Object columns in X_train: []\n"
          ]
        }
      ]
    },
    {
      "cell_type": "code",
      "source": [
        "for df in [X_train, X_val, X_test]:\n",
        "    for col in df.columns:\n",
        "        if df[col].isnull().any():\n",
        "            df[col].fillna(df[col].median(), inplace=True)\n",
        "# Confirm no NaNs remain\n",
        "assert not X_train.isnull().any().any(), \"NaNs still in X_train\"\n",
        "assert not X_val.isnull().any().any(), \"NaNs still in X_val\"\n",
        "assert not X_test.isnull().any().any(), \"NaNs still in X_test\""
      ],
      "metadata": {
        "colab": {
          "base_uri": "https://localhost:8080/"
        },
        "id": "fKjnKCq1p9JP",
        "outputId": "646e14c9-a919-4447-a258-632293ae7739"
      },
      "execution_count": 13,
      "outputs": [
        {
          "output_type": "stream",
          "name": "stderr",
          "text": [
            "/tmp/ipython-input-1513810207.py:4: FutureWarning: A value is trying to be set on a copy of a DataFrame or Series through chained assignment using an inplace method.\n",
            "The behavior will change in pandas 3.0. This inplace method will never work because the intermediate object on which we are setting values always behaves as a copy.\n",
            "\n",
            "For example, when doing 'df[col].method(value, inplace=True)', try using 'df.method({col: value}, inplace=True)' or df[col] = df[col].method(value) instead, to perform the operation inplace on the original object.\n",
            "\n",
            "\n",
            "  df[col].fillna(df[col].median(), inplace=True)\n"
          ]
        }
      ]
    },
    {
      "cell_type": "markdown",
      "source": [
        "# MLP Model in PyTorch"
      ],
      "metadata": {
        "id": "9JAoo3O2qBzl"
      }
    },
    {
      "cell_type": "code",
      "source": [
        "import torch\n",
        "import torch.nn as nn\n",
        "from torch.utils.data import Dataset, DataLoader\n",
        "\n",
        "class TabularDataset(Dataset):\n",
        "    def __init__(self, X, y):\n",
        "        self.X = torch.tensor(X.values, dtype=torch.float32)\n",
        "        self.y = torch.tensor(y, dtype=torch.float32)\n",
        "\n",
        "    def __len__(self):\n",
        "        return len(self.y)\n",
        "\n",
        "    def __getitem__(self, idx):\n",
        "        return self.X[idx], self.y[idx]\n",
        "\n",
        "train_ds = TabularDataset(X_train, y_train)\n",
        "val_ds = TabularDataset(X_val, y_val)\n",
        "test_ds = TabularDataset(X_test, y_test)\n",
        "\n",
        "train_loader = DataLoader(train_ds, batch_size=256, shuffle=True)\n",
        "val_loader = DataLoader(val_ds, batch_size=256)\n",
        "test_loader = DataLoader(test_ds, batch_size=256)\n",
        "\n",
        "class MLP(nn.Module):\n",
        "    def __init__(self, input_dim):\n",
        "        super().__init__()\n",
        "        self.net = nn.Sequential(\n",
        "            nn.Linear(input_dim, 128),\n",
        "            nn.ReLU(),\n",
        "            nn.Dropout(0.3),\n",
        "            nn.Linear(128, 64),\n",
        "            nn.ReLU(),\n",
        "            nn.Dropout(0.3),\n",
        "            nn.Linear(64, 1)\n",
        "        )\n",
        "\n",
        "    def forward(self, x):\n",
        "        return self.net(x)\n",
        "\n",
        "model = MLP(input_dim=X_train.shape[1])\n",
        "loss_fn = nn.BCEWithLogitsLoss(pos_weight=torch.tensor(2.5))\n",
        "optimizer = torch.optim.Adam(model.parameters(), lr=1e-3)\n"
      ],
      "metadata": {
        "id": "eTOizRatp_FS"
      },
      "execution_count": 14,
      "outputs": []
    },
    {
      "cell_type": "markdown",
      "source": [
        "# Training Loop"
      ],
      "metadata": {
        "id": "4zJFF6q1qH_M"
      }
    },
    {
      "cell_type": "code",
      "source": [
        "def train_model(model, train_loader, val_loader, epochs=10):\n",
        "    for epoch in range(epochs):\n",
        "        model.train()\n",
        "        total_loss = 0\n",
        "        for xb, yb in train_loader:\n",
        "            optimizer.zero_grad()\n",
        "            logits = model(xb).squeeze()\n",
        "            loss = loss_fn(logits, yb)\n",
        "            loss.backward()\n",
        "            optimizer.step()\n",
        "            total_loss += loss.item()\n",
        "\n",
        "        print(f\"Epoch {epoch+1} | Train Loss: {total_loss:.4f}\")\n",
        "        evaluate_model(model, val_loader)\n",
        "\n",
        "def evaluate_model(model, loader):\n",
        "    model.eval()\n",
        "    all_logits = []\n",
        "    all_targets = []\n",
        "    with torch.no_grad():\n",
        "        for xb, yb in loader:\n",
        "            logits = model(xb).squeeze()\n",
        "            all_logits.extend(logits.tolist())\n",
        "            all_targets.extend(yb.tolist())\n",
        "\n",
        "    from sklearn.metrics import roc_auc_score, f1_score\n",
        "    probs = torch.sigmoid(torch.tensor(all_logits)).numpy()\n",
        "    preds = (probs > 0.5).astype(int)\n",
        "    auc = roc_auc_score(all_targets, probs)\n",
        "    f1 = f1_score(all_targets, preds)\n",
        "    print(f\"Val AUC: {auc:.4f} | Val F1: {f1:.4f}\")"
      ],
      "metadata": {
        "id": "TrMoNkzzqGut"
      },
      "execution_count": 15,
      "outputs": []
    },
    {
      "cell_type": "code",
      "source": [
        "train_model(model, train_loader, val_loader, epochs=10)"
      ],
      "metadata": {
        "colab": {
          "base_uri": "https://localhost:8080/"
        },
        "id": "iuFauB6JqOa7",
        "outputId": "71af1f02-19bf-454c-cb2a-a52e6a3099da"
      },
      "execution_count": 16,
      "outputs": [
        {
          "output_type": "stream",
          "name": "stdout",
          "text": [
            "Epoch 1 | Train Loss: 45.0952\n",
            "Val AUC: 0.9980 | Val F1: 0.9710\n",
            "Epoch 2 | Train Loss: 12.2864\n",
            "Val AUC: 0.9984 | Val F1: 0.9792\n",
            "Epoch 3 | Train Loss: 10.3192\n",
            "Val AUC: 0.9987 | Val F1: 0.9810\n",
            "Epoch 4 | Train Loss: 8.9014\n",
            "Val AUC: 0.9987 | Val F1: 0.9848\n",
            "Epoch 5 | Train Loss: 8.5762\n",
            "Val AUC: 0.9989 | Val F1: 0.9849\n",
            "Epoch 6 | Train Loss: 7.2414\n",
            "Val AUC: 0.9989 | Val F1: 0.9883\n",
            "Epoch 7 | Train Loss: 6.6663\n",
            "Val AUC: 0.9988 | Val F1: 0.9884\n",
            "Epoch 8 | Train Loss: 6.1718\n",
            "Val AUC: 0.9988 | Val F1: 0.9884\n",
            "Epoch 9 | Train Loss: 5.7393\n",
            "Val AUC: 0.9990 | Val F1: 0.9888\n",
            "Epoch 10 | Train Loss: 5.3112\n",
            "Val AUC: 0.9990 | Val F1: 0.9891\n"
          ]
        }
      ]
    },
    {
      "cell_type": "code",
      "source": [
        "torch.save(model.state_dict(), 'mlp_best1.pt')"
      ],
      "metadata": {
        "id": "ucIqnb9jqQG1"
      },
      "execution_count": 17,
      "outputs": []
    },
    {
      "cell_type": "markdown",
      "source": [
        "# ROC curve and Confusion Matrix"
      ],
      "metadata": {
        "id": "lQhNgekwqaIY"
      }
    },
    {
      "cell_type": "code",
      "source": [
        "import torch\n",
        "import matplotlib.pyplot as plt\n",
        "from sklearn.metrics import roc_curve, roc_auc_score, confusion_matrix, ConfusionMatrixDisplay, f1_score\n",
        "\n",
        "# Collect predictions and true labels\n",
        "model.eval()\n",
        "all_logits = []\n",
        "all_targets = []\n",
        "\n",
        "with torch.no_grad():\n",
        "    for xb, yb in val_loader:\n",
        "        logits = model(xb).squeeze()\n",
        "        all_logits.extend(logits.tolist())\n",
        "        all_targets.extend(yb.tolist())\n",
        "\n",
        "# Convert logits to probabilities\n",
        "probs = torch.sigmoid(torch.tensor(all_logits)).numpy()\n",
        "preds = (probs > 0.5).astype(int)\n",
        "\n",
        "# ROC Curve\n",
        "fpr, tpr, thresholds = roc_curve(all_targets, probs)\n",
        "auc_score = roc_auc_score(all_targets, probs)\n",
        "\n",
        "# Confusion Matrix\n",
        "cm = confusion_matrix(all_targets, preds)\n",
        "f1 = f1_score(all_targets, preds)\n",
        "\n",
        "# Plotting\n",
        "fig, axs = plt.subplots(1, 2, figsize=(12, 5))\n",
        "\n",
        "# ROC Curve\n",
        "axs[0].plot(fpr, tpr, label=f\"AUC = {auc_score:.4f}\")\n",
        "axs[0].plot([0, 1], [0, 1], 'k--')\n",
        "axs[0].set_title(\"ROC Curve\")\n",
        "axs[0].set_xlabel(\"False Positive Rate\")\n",
        "axs[0].set_ylabel(\"True Positive Rate\")\n",
        "axs[0].legend()\n",
        "\n",
        "# Confusion Matrix\n",
        "disp = ConfusionMatrixDisplay(confusion_matrix=cm)\n",
        "disp.plot(ax=axs[1], values_format='d')\n",
        "axs[1].set_title(f\"Confusion Matrix (F1 = {f1:.4f})\")\n",
        "\n",
        "plt.tight_layout()\n",
        "plt.show()"
      ],
      "metadata": {
        "colab": {
          "base_uri": "https://localhost:8080/",
          "height": 263
        },
        "id": "SBD-ug4kqZP7",
        "outputId": "44dc0e27-5738-4819-a636-cc0330f475f9"
      },
      "execution_count": 18,
      "outputs": [
        {
          "output_type": "display_data",
          "data": {
            "text/plain": [
              "<Figure size 1200x500 with 3 Axes>"
            ],
            "image/png": "[encoded data removed]"
          },
          "metadata": {}
        }
      ]
    },
    {
      "cell_type": "code",
      "source": [],
      "metadata": {
        "id": "gJ8Z6TG7DRTM"
      },
      "execution_count": null,
      "outputs": []
    }
  ]
}